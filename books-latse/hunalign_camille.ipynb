{
 "cells": [
  {
   "cell_type": "markdown",
   "metadata": {},
   "source": [
    "# Paragraph level alignment\n"
   ]
  },
  {
   "cell_type": "code",
   "execution_count": 135,
   "metadata": {},
   "outputs": [
    {
     "name": "stdout",
     "output_type": "stream",
     "text": [
      "The autoreload extension is already loaded. To reload it, use:\n",
      "  %reload_ext autoreload\n"
     ]
    }
   ],
   "source": [
    "%load_ext autoreload\n",
    "%autoreload 2\n",
    "from util import *\n",
    "import re"
   ]
  },
  {
   "cell_type": "code",
   "execution_count": 43,
   "metadata": {},
   "outputs": [],
   "source": [
    "def tokenize_file(fname, outname):\n",
    "    with open(fname, 'r') as f:\n",
    "        data = f.read()\n",
    "    with open(outname, 'w') as f:\n",
    "        for line in data.split('\\n'):\n",
    "            f.write(tokenize_new(line)+'\\n')\n",
    "\n",
    "tokenize_file(\"camille-bo-cleaned.txt\", \"camille-bo-cleaned_paragraph2.stem\")"
   ]
  },
  {
   "cell_type": "code",
   "execution_count": 121,
   "metadata": {
    "scrolled": true
   },
   "outputs": [],
   "source": [
    "def tokenize_file_en(fname, outname):\n",
    "    with open(fname, 'r') as f:\n",
    "        data = f.read()\n",
    "    with open(outname, 'w') as f:\n",
    "        for line in data.split('\\n'):\n",
    "            f.write(en_tokenize(line)+'\\n')\n",
    "tokenize_file_en(\"camille.fr.txt\", \"camille_paragraph.fr.stem\")"
   ]
  },
  {
   "cell_type": "raw",
   "metadata": {},
   "source": [
    "../hunalign/src/hunalign/hunalign null.dic camille_paragraph.stem camille-bo-cleaned_paragraph.stem -realign -autodict=paragraph.autodict > align.txt\n",
    "\n",
    "Global quality of unfiltered align after realign 0.338768\n",
    "Quality 0.338768\n",
    "\n",
    "../hunalign/src/hunalign/hunalign null.dic camille_paragraph.fr.stem camille-bo-cleaned_paragraph.stem -realign -autodict=paragraph.fr.autodict > align.fr.num\n",
    "Global quality of unfiltered align after realign 0.398211\n",
    "Quality 0.398211\n",
    "\n",
    "!!!\n",
    "../hunalign/src/hunalign/hunalign null.dic camille_paragraph.fr.stem camille-bo-cleaned_paragraph2.stem -realign -autodict=paragraph.fr.autodict > align.num\n",
    "Global quality of unfiltered align after realign 0.664219\n",
    "Quality 0.664219"
   ]
  },
  {
   "cell_type": "code",
   "execution_count": 46,
   "metadata": {},
   "outputs": [],
   "source": [
    "# build text pairs\n",
    "rebuild_text('camille.txt','camille-bo-cleaned.txt', \"align.num\", \"camille-para-align.txt\")"
   ]
  },
  {
   "cell_type": "code",
   "execution_count": 47,
   "metadata": {},
   "outputs": [],
   "source": [
    "rebuild_text('camille.fr.txt','camille-bo-cleaned.txt', \"align.fr.num\", \"camille-para-align.fr.txt\")"
   ]
  },
  {
   "cell_type": "code",
   "execution_count": null,
   "metadata": {},
   "outputs": [],
   "source": []
  },
  {
   "cell_type": "code",
   "execution_count": 126,
   "metadata": {},
   "outputs": [],
   "source": [
    "data = rebuild_text_df('camille.fr.txt','camille-bo-cleaned.txt', \"align.fr.num\")"
   ]
  },
  {
   "cell_type": "code",
   "execution_count": 127,
   "metadata": {},
   "outputs": [],
   "source": [
    "import pandas as pd\n",
    "df = pd.DataFrame(data, columns=['source', 'target', 'score'])"
   ]
  },
  {
   "cell_type": "code",
   "execution_count": 128,
   "metadata": {},
   "outputs": [],
   "source": [
    "df['source_url'] = 'https://www.gutenberg.org/files/2419/2419-h/2419-h.htm'\n",
    "df['target_url'] = 'https://latse.org/108-translations/#The Lady of the Camellias'"
   ]
  },
  {
   "cell_type": "code",
   "execution_count": 116,
   "metadata": {},
   "outputs": [],
   "source": [
    "df.to_csv('bisent_camille_paragraph_fr-bo.csv', index=False)\n",
    "df.sample(30, random_state=32).to_csv('bisent_camille_paragraph_fr-bo_sample30.csv', index=False)"
   ]
  },
  {
   "cell_type": "markdown",
   "metadata": {},
   "source": [
    "# EN-FR alignment"
   ]
  },
  {
   "cell_type": "code",
   "execution_count": null,
   "metadata": {},
   "outputs": [],
   "source": [
    "../hunalign/src/hunalign/hunalign null.dic camille_paragraph.fr.stem camille_paragraph.stem -realign -autodict=camille_paragraph.en-fr.autodict > camille_en-fr_align.num\n",
    "Global quality of unfiltered align after realign 0.865268\n",
    "Quality 0.865268"
   ]
  },
  {
   "cell_type": "code",
   "execution_count": 122,
   "metadata": {},
   "outputs": [],
   "source": [
    "def break_sents_en(fname, outname):\n",
    "    with open(fname, 'r') as f:\n",
    "        data = f.read()\n",
    "    with open(outname, 'w') as f:\n",
    "        for line in data.split('\\n'):\n",
    "            sents = en_get_sents(line)\n",
    "            for sent in sents:\n",
    "                s = sent.strip()\n",
    "                if s:\n",
    "                    f.write(s+'\\n')\n",
    "break_sents_en(\"camille.fr.txt\", \"camille_sents.fr.txt\")\n",
    "tokenize_file_en(\"camille_sents.fr.txt\", \"camille_sents.fr.stem\")"
   ]
  },
  {
   "cell_type": "code",
   "execution_count": 123,
   "metadata": {},
   "outputs": [],
   "source": [
    "break_sents_en(\"camille.txt\", \"camille_sents.en.txt\")\n",
    "tokenize_file_en(\"camille_sents.en.txt\", \"camille_sents.en.stem\")"
   ]
  },
  {
   "cell_type": "code",
   "execution_count": null,
   "metadata": {},
   "outputs": [],
   "source": [
    "../hunalign/src/hunalign/hunalign null.dic camille_sents.fr.stem camille_sents.en.stem -realign -autodict=camille_sent.en-fr.autodict > camille_en-fr_sent_align.num\n",
    "Global quality of unfiltered align after realign 1.00847\n",
    "Quality 1.00847"
   ]
  },
  {
   "cell_type": "markdown",
   "metadata": {},
   "source": [
    "# Intra-paragraph (sentence) alignment"
   ]
  },
  {
   "cell_type": "code",
   "execution_count": 130,
   "metadata": {},
   "outputs": [],
   "source": [
    "prepare_intraparagraph_basic(df, \"camille-intraparagraph.fr.txt\", \"camille-intraparagraph.bo.txt\")"
   ]
  },
  {
   "cell_type": "code",
   "execution_count": 134,
   "metadata": {},
   "outputs": [],
   "source": [
    "prepare_intraparagraph(df, \"camille-intraparagraph.fr.txt\", \"camille-intraparagraph2.bo.txt\")"
   ]
  },
  {
   "cell_type": "code",
   "execution_count": 137,
   "metadata": {
    "scrolled": true
   },
   "outputs": [],
   "source": [
    "prepare_intraparagraph(df, \"camille-intraparagraph.fr.txt\", \"camille-intraparagraph3.bo.txt\")"
   ]
  },
  {
   "cell_type": "raw",
   "metadata": {},
   "source": [
    "../hunalign/src/hunalign/hunalign camille-paragraph.fr.autodict camille-intraparagraph.fr.stem camille-intraparagraph.bo.stem -realign -autodict=camille_intraparagraph.fr-bo.autodict > camille_fr-bo_intrapara_align.num\n",
    "Global quality of unfiltered align after realign 0.27375\n",
    "Quality 0.27375\n",
    "\n",
    "../hunalign/src/hunalign/hunalign camille-paragraph.fr.autodict camille-intraparagraph.fr.stem camille-intraparagraph2.bo.stem -realign -autodict=camille_intraparagraph2.fr-bo.autodict > camille_fr-bo_intrapara2_align.num\n",
    "Global quality of unfiltered align after realign 0.363465\n",
    "Quality 0.363465\n",
    "\n",
    "../hunalign/src/hunalign/hunalign camille-paragraph.fr.autodict camille-intraparagraph.fr.stem camille-intraparagraph3.bo.stem -realign -autodict=camille_intraparagraph3.fr-bo.autodict > camille_fr-bo_intrapara3_align.num\n",
    "Global quality of unfiltered align after realign 0.418988\n",
    "Quality 0.418988\n",
    "\n",
    "\n",
    "../hunalign/src/hunalign/hunalign null.dic camille-intraparagraph.fr.stem camille-intraparagraph3.bo.stem -realign -autodict=camille_intraparagraph3.fr-bo.autodict > camille_fr-bo_intrapara3_align.num\n",
    "\n",
    "Global quality of unfiltered align after realign 0.402641\n",
    "Correcting a rare bug affecting first bisentences.\n",
    "Quality 0.402641"
   ]
  },
  {
   "cell_type": "code",
   "execution_count": 140,
   "metadata": {},
   "outputs": [],
   "source": [
    "rebuild_text('camille-intraparagraph.fr.txt','camille-intraparagraph3.bo.txt', \"camille_fr-bo_intrapara3_align.num\", \n",
    "             \"camille-intrapara3-align.fr.txt\", -0.001)"
   ]
  },
  {
   "cell_type": "code",
   "execution_count": 141,
   "metadata": {},
   "outputs": [],
   "source": [
    "rebuild_text('camille-intraparagraph.fr.txt','camille-intraparagraph.bo.txt', \"camille_fr-bo_intrapara_align.num\", \n",
    "             \"camille-intrapara-align.fr.txt\", 0.001)\n"
   ]
  },
  {
   "cell_type": "code",
   "execution_count": null,
   "metadata": {},
   "outputs": [],
   "source": []
  }
 ],
 "metadata": {
  "kernelspec": {
   "display_name": "Python 3",
   "language": "python",
   "name": "python3"
  },
  "language_info": {
   "codemirror_mode": {
    "name": "ipython",
    "version": 3
   },
   "file_extension": ".py",
   "mimetype": "text/x-python",
   "name": "python",
   "nbconvert_exporter": "python",
   "pygments_lexer": "ipython3",
   "version": "3.8.5"
  }
 },
 "nbformat": 4,
 "nbformat_minor": 4
}
