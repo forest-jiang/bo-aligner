{
 "cells": [
  {
   "cell_type": "markdown",
   "metadata": {},
   "source": [
    "# English processing"
   ]
  },
  {
   "cell_type": "code",
   "execution_count": 74,
   "metadata": {},
   "outputs": [],
   "source": [
    "# Note: from Google OCR\n",
    "with open('night.en.txt', 'r') as f:\n",
    "    text = f.read()\n",
    "text = \"\\n\".join( line.strip().replace(\"\\xad\", \"\") for line in text.split('\\n') )\n",
    "import re"
   ]
  },
  {
   "cell_type": "code",
   "execution_count": 75,
   "metadata": {},
   "outputs": [
    {
     "data": {
      "text/plain": [
       "[]"
      ]
     },
     "execution_count": 75,
     "metadata": {},
     "output_type": "execute_result"
    }
   ],
   "source": [
    "re.findall('.{1,10}\\xad.{1,10}', text, re.MULTILINE)"
   ]
  },
  {
   "cell_type": "code",
   "execution_count": 66,
   "metadata": {},
   "outputs": [
    {
     "data": {
      "text/plain": [
       "71"
      ]
     },
     "execution_count": 66,
     "metadata": {},
     "output_type": "execute_result"
    }
   ],
   "source": [
    "len(re.findall('.{0,10}\\n[^A-Z“\\n].{0,10}', text, re.MULTILINE))"
   ]
  },
  {
   "cell_type": "code",
   "execution_count": 44,
   "metadata": {},
   "outputs": [],
   "source": [
    "# re.findall('(?<=[^\\?\\.\\n”\\-])\\n{1,3}(?=[a-z])', text, re.MULTILINE)"
   ]
  },
  {
   "cell_type": "code",
   "execution_count": 47,
   "metadata": {},
   "outputs": [],
   "source": [
    "# Concate some broken lines\n",
    "new_text, n = re.subn('(?<=[^\\?\\.\\n”\\-])\\n{1,3}(?=[a-z])', \" \", text, re.MULTILINE)"
   ]
  },
  {
   "cell_type": "raw",
   "metadata": {},
   "source": [
    "### Add \"<p>\", leave no empty line"
   ]
  },
  {
   "cell_type": "code",
   "execution_count": 76,
   "metadata": {},
   "outputs": [],
   "source": [
    "# new_text8 = new_text7.replace(\"\\n\\n\", \"\\n<p>\\n\")\n",
    "with open('night2.en.txt', 'w') as f:\n",
    "    for line in text.split(\"\\n\"):\n",
    "        l = line.strip()\n",
    "        if l:\n",
    "            f.write(l+'\\n')"
   ]
  },
  {
   "cell_type": "markdown",
   "metadata": {},
   "source": [
    "# Tibetan processing"
   ]
  },
  {
   "cell_type": "code",
   "execution_count": 73,
   "metadata": {},
   "outputs": [],
   "source": [
    "# Using https://www.zamzar.com/convert/epub-to-txt/ this time\n",
    "with open('night.bo.txt', 'r') as f:\n",
    "    text = f.read()"
   ]
  },
  {
   "cell_type": "code",
   "execution_count": 70,
   "metadata": {},
   "outputs": [
    {
     "data": {
      "text/plain": [
       "[]"
      ]
     },
     "execution_count": 70,
     "metadata": {},
     "output_type": "execute_result"
    }
   ],
   "source": [
    "re.findall('(?<=[^\\d])[0-9]{1,2}(?=[^\\d])', text)"
   ]
  },
  {
   "cell_type": "code",
   "execution_count": 72,
   "metadata": {},
   "outputs": [],
   "source": [
    "with open('night2.bo.txt', 'w') as f:\n",
    "    for line in text.split(\"\\n\"):\n",
    "        l = line.strip()\n",
    "        if l:\n",
    "            f.write(l+'\\n')"
   ]
  }
 ],
 "metadata": {
  "kernelspec": {
   "display_name": "Python 3",
   "language": "python",
   "name": "python3"
  },
  "language_info": {
   "codemirror_mode": {
    "name": "ipython",
    "version": 3
   },
   "file_extension": ".py",
   "mimetype": "text/x-python",
   "name": "python",
   "nbconvert_exporter": "python",
   "pygments_lexer": "ipython3",
   "version": "3.8.5"
  }
 },
 "nbformat": 4,
 "nbformat_minor": 4
}
