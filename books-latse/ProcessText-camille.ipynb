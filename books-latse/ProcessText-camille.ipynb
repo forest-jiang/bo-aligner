{
 "cells": [
  {
   "cell_type": "code",
   "execution_count": 37,
   "metadata": {},
   "outputs": [
    {
     "name": "stdout",
     "output_type": "stream",
     "text": [
      "The autoreload extension is already loaded. To reload it, use:\n",
      "  %reload_ext autoreload\n"
     ]
    }
   ],
   "source": [
    "%load_ext autoreload\n",
    "%autoreload 2\n",
    "from util import *\n",
    "import re\n",
    "\n",
    "# Copy from adobe reader\n",
    "with open(\"camille-bo.txt\", \"r\") as f:\n",
    "    all_text = f.read()\n",
    "# sorted(set(all_text))"
   ]
  },
  {
   "cell_type": "code",
   "execution_count": 38,
   "metadata": {},
   "outputs": [],
   "source": [
    "\n",
    "# Here! Remove duplicated (repetitative) add-on characters such as \n",
    "patterns = {}   # old --> new\n",
    "vowels = 'ཨུཨེཨིཨོ'[1::2]\n",
    "for v in vowels:\n",
    "    patterns[v+v] = v\n",
    "    patterns[v+' '+v] = v\n",
    "\n",
    "# all such characters \n",
    "partial_l = []\n",
    "for l in sorted(set(all_text)):\n",
    "    if l > 'ཨ' and l < '–':\n",
    "        partial_l.append(l)\n",
    "        patterns[l+l] = l\n",
    "        patterns[l+\" \"+l] = l\n",
    "        patterns[l+\"་\"+l] = l + \"་\"\n",
    "#         patterns[\"་\"+l] = l\n",
    "\n",
    "def remove_dup(s, patterns):\n",
    "    for pat in patterns:\n",
    "        s = s.replace(pat, patterns[pat])\n",
    "    return s\n",
    "all_text = remove_dup(all_text, patterns)\n",
    "all_lines = all_text.split(\"\\n\")"
   ]
  },
  {
   "cell_type": "code",
   "execution_count": 39,
   "metadata": {},
   "outputs": [],
   "source": [
    "with open(\"tmp.txt\", 'w') as f:\n",
    "    f.write(\"\\n\".join(all_lines))"
   ]
  },
  {
   "cell_type": "code",
   "execution_count": 40,
   "metadata": {},
   "outputs": [
    {
     "data": {
      "text/plain": [
       "['མ', 'ོ', 'འ', 'ི', '་', 'ི', 'འ', 'ཛ', 'ུ', 'མ']"
      ]
     },
     "execution_count": 40,
     "metadata": {},
     "output_type": "execute_result"
    }
   ],
   "source": [
    "list(\"མོའི་ིའཛུམ\")"
   ]
  },
  {
   "cell_type": "code",
   "execution_count": 44,
   "metadata": {},
   "outputs": [],
   "source": [
    "pages = {} # (key, page_content)\n",
    "key, page_content = \"\", []\n",
    "headers = ['ཨ་ཅེ་མེ་ཏོག་གཡང་འཛིན་མ།', 'བུ་ཨ་ལེག་བཟན་ཌ་ ཌུ་མས་བརྩམས།']\n",
    "\n",
    "def is_header(line):\n",
    "    return line in headers\n",
    "\n",
    "def is_page_number(line):\n",
    "    import re\n",
    "    return re.match(\"^[XVI]+$\", line.upper()) or re.match(\"^\\d{1,3}$\", line)\n",
    "    \n",
    "for line in all_lines:\n",
    "    if is_header(line):\n",
    "        continue\n",
    "    if is_page_number(line):\n",
    "        if page_content:\n",
    "            pages[key] = \"\\n\".join(page_content)\n",
    "        page_content = []\n",
    "        key = line\n",
    "    else:\n",
    "        page_content.append(line)\n",
    "if page_content:\n",
    "    pages[key] = \"\\n\".join(page_content)"
   ]
  },
  {
   "cell_type": "code",
   "execution_count": 45,
   "metadata": {},
   "outputs": [],
   "source": [
    "with open(\"tmp1.txt\", 'w') as f:\n",
    "    for key in pages:\n",
    "        f.write(key+'\\n')\n",
    "        f.write(pages[key]+'\\n')"
   ]
  },
  {
   "cell_type": "code",
   "execution_count": 46,
   "metadata": {},
   "outputs": [
    {
     "name": "stdout",
     "output_type": "stream",
     "text": [
      "ཆ་ཞིག་ཡོད། དེ་ནི་སྒྲུང་འདི་བདེན་པ་ཡིན།\n",
      "ངས་གཏམ་རྒྱུད་འདི་བརྗོད་པའི་དགོས་དོན་ནི་བུ་མོ་ཐམས་ཅད་\n",
      "མར་གྷར་རི་ཋི་བཞིན་གཏོང་ཕོད་ཅན་ཡིན་ཞེས་བསྒྲུབས་པ་མིན། བུད་\n",
      "མེད་གཞན་རྣམས་མར་གྷར་རི་ཋིའི་འཁྲིས་སུའང་མི་སླེབས། ཡིན་\n",
      "ནའང་བུ་མོ་གཅིག་རང་གི་མི་ཚེའི་ནང་དུ་བརྩེ་དུང་ཟབ་མོ་ཆགས།\n",
      "ཁོ་མོས་བརྩེ་དུང་གི་དོན་དུ་སྡུག་བསྔལ་མྱངས་པ་དང་བརྩེ་དུང་གི་\n",
      "ཆེད་དུ་ཤི་ཡོད་པ་ཤེས། ངས་ཅི་ཞིག་ཤེས་པ་རྣམས་ཀློག་པ་པོར་བཤད་\n",
      "ཟིན། འདི་ནི་ངའི་ལས་འགན་ཡིན།\n",
      "ང་ནི་སྡིག་ཉེས་ཁྱབ་སྤེལ་གྱི་འཁོར་སློབ་ཅིག་མིན། འོན་ཀྱང་\n",
      "ངས་གང་དུ་སྨོན་ལམ་ཚིག་རེ་བཏབ་པ་ཐོས་ན་རྐྱེན་ངན་རང་སྟེང་\n",
      "དུ་བླངས་པའི་འཕྱོན་མ་དེའི་ཡ་རབས་ཀྱི་གཏམ་རྒྱུད་འདི་སྒྲོག་རྒྱུ་\n",
      "ལ་མོས།\n",
      "ངས་བསྐྱར་ཟློས་བྱེད། མར་གྷར་རི་ཋིའི་གཏམ་རྒྱུད་ནི་དམིགས་\n",
      "བསལ་ཞིག་ཡིན། གལ་སྲིད་གཏམ་རྒྱུད་འདི་སྤྱིར་བཏང་གི་བྱུང་བ་\n",
      "ཞིག་ཡིན་ན་ངས་དེ་ལ་ངལ་བ་བསྟེན་ནས་འབྲི་དགོས་པའི་རིན་ཐང་\n",
      "མེད་དོ། །\n",
      "འགྱུར་བརྒྱ་རྩ་བརྒྱད་ནི་ཚད་ངེས་ཅན་ཞིག་གི་སྟེང་ནས་\n",
      "དམ་ཆོས་བང་མཛོད་ཀྱི་གཏོང་ཕོད་ཀྱི་རོགས་སྐྱོར་ལ་\n",
      "བརྟེན་ནས་བྱུང་བ་ཡིན།\n",
      "The 108 Translations project is made possible\n",
      "in part by generous support from\n",
      "Dharma Treasure.\n",
      "dharma-treasure.org\n"
     ]
    }
   ],
   "source": [
    "print(pages['442'])\n",
    "# re.findall(wrong_space_pattern, all_text)"
   ]
  },
  {
   "cell_type": "code",
   "execution_count": 47,
   "metadata": {},
   "outputs": [],
   "source": [
    "main_lines = []\n",
    "for i in range(443):\n",
    "    if str(i) in pages:\n",
    "        main_lines += pages[str(i)].split(\"\\n\")"
   ]
  },
  {
   "cell_type": "code",
   "execution_count": 1,
   "metadata": {
    "scrolled": true
   },
   "outputs": [],
   "source": [
    "# main_lines\n"
   ]
  },
  {
   "cell_type": "code",
   "execution_count": 49,
   "metadata": {},
   "outputs": [],
   "source": [
    "wrong_space_pattern = \"[^།༠-༩ཀགཤ“”)…] [^།༠-༩“”(]\"\n",
    "def spacerepl(matchobj):\n",
    "    m = matchobj.group(0)\n",
    "    if len(m)!=3: \n",
    "        print(m)\n",
    "        return \"\"\n",
    "    else:\n",
    "        return m[0]+m[2]\n",
    "tt = re.subn(wrong_space_pattern, spacerepl, \"\".join(main_lines))\n",
    "# for t in set(re.findall(wrong_space_pattern, \"\".join(main_lines))):\n",
    "#     print(\"a\"+t)"
   ]
  },
  {
   "cell_type": "code",
   "execution_count": 66,
   "metadata": {},
   "outputs": [],
   "source": [
    "cleaned_lines = []\n",
    "line = \"\"\n",
    "open_for_concat = True\n",
    "for i, part in enumerate(main_lines):\n",
    "    part, _ = re.subn(wrong_space_pattern, spacerepl, part)\n",
    "    part = part.strip()\n",
    "    line = line + part\n",
    "    if len(main_lines) - i < 8:\n",
    "        break\n",
    "    if part and part[-1] != \"་\":\n",
    "        cleaned_lines.append(line)\n",
    "        line = \"\"\n",
    "        \n"
   ]
  },
  {
   "cell_type": "code",
   "execution_count": 67,
   "metadata": {
    "scrolled": true
   },
   "outputs": [],
   "source": [
    "with open(\"camille-bo-cleaned.txt\", 'w') as f:\n",
    "    f.write(\"\\n\".join(cleaned_lines))"
   ]
  },
  {
   "cell_type": "code",
   "execution_count": 52,
   "metadata": {},
   "outputs": [
    {
     "data": {
      "text/plain": [
       "['a་', 'aས', 'aྙ', 'aི', 'aང', 'a་', 'aག', 'aི', 'a་', 'aད', 'aུ', 'aམ', 'a་']"
      ]
     },
     "execution_count": 52,
     "metadata": {},
     "output_type": "execute_result"
    }
   ],
   "source": [
    "['a'+c for c in list('་སྙིང་གི་དུམ་')]"
   ]
  },
  {
   "cell_type": "code",
   "execution_count": null,
   "metadata": {},
   "outputs": [],
   "source": [
    "འགྱུར་བརྒྱ་རྩ་བརྒྱད་ནིི་ཚད་ངེེས་ཅན་ཞིིག་གིི་སྟེེང་ནས་"
   ]
  },
  {
   "cell_type": "code",
   "execution_count": 55,
   "metadata": {},
   "outputs": [
    {
     "data": {
      "text/plain": [
       "['བསལ་ཞིག་ཡིན། གལ་སྲིད་གཏམ་རྒྱུད་འདི་སྤྱིར་བཏང་གི་བྱུང་བ་',\n",
       " 'ཞིག་ཡིན་ན་ངས་དེ་ལ་ངལ་བ་བསྟེན་ནས་འབྲི་དགོས་པའི་རིན་ཐང་',\n",
       " 'མེད་དོ། །',\n",
       " 'འགྱུར་བརྒྱ་རྩ་བརྒྱད་ནི་ཚད་ངེས་ཅན་ཞིག་གི་སྟེང་ནས་',\n",
       " 'དམ་ཆོས་བང་མཛོད་ཀྱི་གཏོང་ཕོད་ཀྱི་རོགས་སྐྱོར་ལ་',\n",
       " 'བརྟེན་ནས་བྱུང་བ་ཡིན།',\n",
       " 'The 108 Translations project is made possible',\n",
       " 'in part by generous support from',\n",
       " 'Dharma Treasure.',\n",
       " 'dharma-treasure.org']"
      ]
     },
     "execution_count": 55,
     "metadata": {},
     "output_type": "execute_result"
    }
   ],
   "source": [
    "main_lines[-10:]"
   ]
  },
  {
   "cell_type": "code",
   "execution_count": 57,
   "metadata": {},
   "outputs": [
    {
     "name": "stdout",
     "output_type": "stream",
     "text": [
      "ཆ་ཞིག་ཡོད། དེ་ནི་སྒྲུང་འདི་བདེན་པ་ཡིན།\n",
      "ངས་གཏམ་རྒྱུད་འདི་བརྗོད་པའི་དགོས་དོན་ནི་བུ་མོ་ཐམས་ཅད་\n",
      "མར་གྷར་རི་ཋི་བཞིན་གཏོང་ཕོད་ཅན་ཡིན་ཞེས་བསྒྲུབས་པ་མིན། བུད་\n",
      "མེད་གཞན་རྣམས་མར་གྷར་རི་ཋིའི་འཁྲིས་སུའང་མི་སླེབས། ཡིན་\n",
      "ནའང་བུ་མོ་གཅིག་རང་གི་མི་ཚེའི་ནང་དུ་བརྩེ་དུང་ཟབ་མོ་ཆགས།\n",
      "ཁོ་མོས་བརྩེ་དུང་གི་དོན་དུ་སྡུག་བསྔལ་མྱངས་པ་དང་བརྩེ་དུང་གི་\n",
      "ཆེད་དུ་ཤི་ཡོད་པ་ཤེས། ངས་ཅི་ཞིག་ཤེས་པ་རྣམས་ཀློག་པ་པོར་བཤད་\n",
      "ཟིན། འདི་ནི་ངའི་ལས་འགན་ཡིན།\n",
      "ང་ནི་སྡིག་ཉེས་ཁྱབ་སྤེལ་གྱི་འཁོར་སློབ་ཅིག་མིན། འོན་ཀྱང་\n",
      "ངས་གང་དུ་སྨོན་ལམ་ཚིག་རེ་བཏབ་པ་ཐོས་ན་རྐྱེན་ངན་རང་སྟེང་\n",
      "དུ་བླངས་པའི་འཕྱོན་མ་དེའི་ཡ་རབས་ཀྱི་གཏམ་རྒྱུད་འདི་སྒྲོག་རྒྱུ་\n",
      "ལ་མོས།\n",
      "ངས་བསྐྱར་ཟློས་བྱེད། མར་གྷར་རི་ཋིའི་གཏམ་རྒྱུད་ནི་དམིགས་\n",
      "བསལ་ཞིག་ཡིན། གལ་སྲིད་གཏམ་རྒྱུད་འདི་སྤྱིར་བཏང་གི་བྱུང་བ་\n",
      "ཞིག་ཡིན་ན་ངས་དེ་ལ་ངལ་བ་བསྟེན་ནས་འབྲི་དགོས་པའི་རིན་ཐང་\n",
      "མེད་དོ། །\n",
      "འགྱུར་བརྒྱ་རྩ་བརྒྱད་ནི་ཚད་ངེས་ཅན་ཞིག་གི་སྟེང་ནས་\n",
      "དམ་ཆོས་བང་མཛོད་ཀྱི་གཏོང་ཕོད་ཀྱི་རོགས་སྐྱོར་ལ་\n",
      "བརྟེན་ནས་བྱུང་བ་ཡིན།\n",
      "The 108 Translations project is made possible\n",
      "in part by generous support from\n",
      "Dharma Treasure.\n",
      "dharma-treasure.org\n"
     ]
    }
   ],
   "source": [
    "print(pages['442'])"
   ]
  },
  {
   "cell_type": "code",
   "execution_count": null,
   "metadata": {},
   "outputs": [],
   "source": []
  }
 ],
 "metadata": {
  "kernelspec": {
   "display_name": "Python 3",
   "language": "python",
   "name": "python3"
  },
  "language_info": {
   "codemirror_mode": {
    "name": "ipython",
    "version": 3
   },
   "file_extension": ".py",
   "mimetype": "text/x-python",
   "name": "python",
   "nbconvert_exporter": "python",
   "pygments_lexer": "ipython3",
   "version": "3.8.5"
  }
 },
 "nbformat": 4,
 "nbformat_minor": 4
}
