{
 "cells": [
  {
   "cell_type": "code",
   "execution_count": 1,
   "metadata": {},
   "outputs": [],
   "source": [
    "# 84000 read tmx"
   ]
  },
  {
   "cell_type": "code",
   "execution_count": 124,
   "metadata": {},
   "outputs": [],
   "source": [
    "import pandas as pd\n",
    "import glob\n",
    "path = 'data-translation-memory/'\n",
    "\n",
    "files = glob.glob(path+\"*v2.tmx\")"
   ]
  },
  {
   "cell_type": "code",
   "execution_count": 117,
   "metadata": {},
   "outputs": [
    {
     "name": "stdout",
     "output_type": "stream",
     "text": [
      "data-translation-memory/Toh_157-The_Questions_of_the_Kimnara_King_Druma-v2.tmx\n",
      "3968\n",
      "data-translation-memory/Toh_96-The_Miraculous_Play_of_Manjusri-v2.tmx\n",
      "1894\n",
      "data-translation-memory/Toh_285-The_Dedication_Fulfilling_All_Aspirations-v2.tmx\n",
      "98\n",
      "data-translation-memory/Toh_271-The_Eight_Buddhas-v2.tmx\n",
      "306\n",
      "data-translation-memory/Toh_308-Questions%20Regarding%20Death%20and%20Transmigration-v2.tmx\n",
      "608\n",
      "data-translation-memory/Toh_270-The_Seven_Buddhas-v2.tmx\n",
      "286\n",
      "data-translation-memory/Toh_211-Teaching_the_Fundamental_Exposition_of_Dependent_Arising-v2.tmx\n",
      "96\n",
      "data-translation-memory/Toh_731-Tara_Who_Protects_from_Eight_Dangers-v2.tmx\n",
      "170\n",
      "data-translation-memory/Toh_249-The_Sutra_Teaching_the_Four_Factors-v2.tmx\n",
      "48\n",
      "data-translation-memory/Toh_244-Proper_Dharma_Conduct-v2.tmx\n",
      "1194\n",
      "data-translation-memory/Toh_182-The_Perfection_of_Generosity-v2.tmx\n",
      "1328\n",
      "data-translation-memory/Toh_273-The_Twelve_Buddhas-v2.tmx\n",
      "222\n",
      "data-translation-memory/Toh_178-Teaching_on_the_Aids_to_Enlightenment-v2.tmx\n",
      "344\n",
      "data-translation-memory/Toh_134-The_Absorption_That_Encapsulates_All_Merit-v2.tmx\n",
      "3638\n",
      "data-translation-memory/Toh_679-Dharan%C4%AB_Praising_the_Qualities_of_the_Immeasurable_One-v2.tmx\n",
      "28\n",
      "data-translation-memory/Toh_286-The_Dedication_Protecting_All_Beings-v2.tmx\n",
      "88\n",
      "data-translation-memory/Toh_340-The_Hundred_Deeds-v2.tmx\n",
      "30394\n",
      "data-translation-memory/Toh_207-Strength_of_the_Elephant-v2.tmx\n",
      "1082\n",
      "data-translation-memory/Toh_99-The_Blessed_One%27s_Wisdom_That_Leads_to_Infinite_Certainty-v2.tmx\n",
      "18974\n",
      "data-translation-memory/Toh_846a-Threefold_Ritual-v2.tmx\n",
      "24\n",
      "data-translation-memory/Toh_142-The_Dharani_Entering_into_Non-conceptuality-v2.tmx\n",
      "238\n",
      "data-translation-memory/Toh_438-Tara_with_Twenty-One_Verses_of_Homage-v2.tmx\n",
      "114\n",
      "data-translation-memory/Toh_298-The_Gandi_Sutra-v2.tmx\n",
      "260\n",
      "data-translation-memory/Toh_197-The_Nectar_of_Speech-v2.tmx\n",
      "208\n",
      "data-translation-memory/Toh_245-The_Sections_of_Dharma-v2.tmx\n",
      "524\n",
      "data-translation-memory/Toh_312-Entering_the_City_of_Vaisali-v2.tmx\n",
      "264\n",
      "data-translation-memory/Toh_846-Threefold_Invocation_Ritual-v2.tmx\n",
      "122\n",
      "data-translation-memory/Toh_308-Questions_Regarding_Death_and_Transmigration-v2.tmx\n",
      "608\n",
      "data-translation-memory/Toh_736-The_Dharani_of_Parnasavari-v2.tmx\n",
      "50\n",
      "data-translation-memory/Toh_186-The_Teaching_on_the_Extraordinary_Transformation-v2.tmx\n",
      "990\n",
      "data-translation-memory/Toh_101-Upholding_the_Roots_of_Virtue-v2.tmx\n",
      "16684\n",
      "data-translation-memory/Toh_325-The_Verses_of_Naga_King_Drum-v2.tmx\n",
      "366\n"
     ]
    }
   ],
   "source": [
    "all_lines = []\n",
    "from bs4 import BeautifulSoup\n",
    "for file in files:\n",
    "    print(file)\n",
    "    with open(file,'r') as f:\n",
    "        content = f.read()\n",
    "    soup = BeautifulSoup(content)\n",
    "    lines = []\n",
    "    for elem in soup.findAll(\"seg\"):\n",
    "        lines.append(elem.text.strip())\n",
    "    print(len(lines))\n",
    "    all_lines += lines\n",
    "#     for i in range(0,len(all_lines),2):\n",
    "#         data.append((all_lines[i], all_lines[i+1], \"bo\", \"en\"))\n",
    "    "
   ]
  },
  {
   "cell_type": "code",
   "execution_count": 119,
   "metadata": {},
   "outputs": [],
   "source": [
    "data = []\n",
    "for i in range(0,len(all_lines),2):\n",
    "    data.append((all_lines[i], all_lines[i+1], \"bo\", \"en\"))\n",
    "df = pd.DataFrame(data)"
   ]
  },
  {
   "cell_type": "code",
   "execution_count": 122,
   "metadata": {},
   "outputs": [],
   "source": [
    "df.to_csv(\"bisent_84000_v2.csv\", index=False, header=False)"
   ]
  },
  {
   "cell_type": "code",
   "execution_count": null,
   "metadata": {},
   "outputs": [],
   "source": []
  }
 ],
 "metadata": {
  "kernelspec": {
   "display_name": "Python 3",
   "language": "python",
   "name": "python3"
  },
  "language_info": {
   "codemirror_mode": {
    "name": "ipython",
    "version": 3
   },
   "file_extension": ".py",
   "mimetype": "text/x-python",
   "name": "python",
   "nbconvert_exporter": "python",
   "pygments_lexer": "ipython3",
   "version": "3.8.5"
  }
 },
 "nbformat": 4,
 "nbformat_minor": 4
}
