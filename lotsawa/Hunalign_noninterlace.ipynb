{
 "cells": [
  {
   "cell_type": "markdown",
   "metadata": {},
   "source": [
    "# Hunalign on non-interlaced text on Lotsawa"
   ]
  },
  {
   "cell_type": "code",
   "execution_count": null,
   "metadata": {},
   "outputs": [],
   "source": []
  },
  {
   "cell_type": "code",
   "execution_count": 1,
   "metadata": {},
   "outputs": [
    {
     "ename": "SyntaxError",
     "evalue": "invalid syntax (<ipython-input-1-a54612fc473c>, line 1)",
     "output_type": "error",
     "traceback": [
      "\u001b[0;36m  File \u001b[0;32m\"<ipython-input-1-a54612fc473c>\"\u001b[0;36m, line \u001b[0;32m1\u001b[0m\n\u001b[0;31m    ../hunalign/src/hunalign/hunalign null.dic lotsawa_interlace.bo.stem  lotsawa_interlace.en.stem -noalign\u001b[0m\n\u001b[0m    ^\u001b[0m\n\u001b[0;31mSyntaxError\u001b[0m\u001b[0;31m:\u001b[0m invalid syntax\n"
     ]
    }
   ],
   "source": [
    "../hunalign/src/hunalign/hunalign null.dic lotsawa_interlace.bo.stem  lotsawa_interlace.en.stem -noalign\n",
    "\n",
    "\n",
    "../hunalign/src/hunalign/hunalign -batch lotsawa_interlace.autodict noninterlace.jobs"
   ]
  },
  {
   "cell_type": "code",
   "execution_count": 27,
   "metadata": {},
   "outputs": [],
   "source": [
    "import glob\n",
    "from util import *\n",
    "bo_files = glob.glob(\"articles/*.bo.stem\")\n",
    "with open(\"noninterlace.jobs\", 'w') as f:\n",
    "    for bo_file in bo_files:\n",
    "        en_file = bo_file.replace(\"bo.stem\", \"en.stem\")\n",
    "        align_file = bo_file.replace(\"bo.stem\", \"align\")\n",
    "        f.write(bo_file+'\\t'+en_file+\"\\t\"+align_file+\"\\n\")\n"
   ]
  },
  {
   "cell_type": "code",
   "execution_count": 28,
   "metadata": {},
   "outputs": [],
   "source": [
    "# Combine and convert to text after align"
   ]
  },
  {
   "cell_type": "code",
   "execution_count": 42,
   "metadata": {},
   "outputs": [],
   "source": [
    "align_files = glob.glob(\"articles/*.align\")\n",
    "\n",
    "data = []  # source, target, score, source_url, target_url\n",
    "import re\n",
    "for file in align_files:\n",
    "    en_file = file.replace(\".align\", \".en.stem\").replace(\"articles/\", \"articles_plain/\")\n",
    "    bo_file = file.replace(\".align\", \".bo.stem\").replace(\"articles/\", \"articles_plain/\")\n",
    "    en_url = \"https://www.lotsawahouse.org/\" + re.match(\"articles/(.+).align\", file)[1].replace(\"_\",\"/\")\n",
    "    bo_url = get_bo_url(en_url)\n",
    "    \n",
    "    with open(en_file, 'r') as f:\n",
    "        en_lines = f.read().split(\"\\n\")\n",
    "    with open(bo_file, 'r') as f:\n",
    "        bo_lines = f.read().split(\"\\n\")\n",
    "        \n",
    "    with open(file, 'r') as f:\n",
    "        lines = f.readlines()\n",
    "    ins_bo, ins_en, scores = [], [], []\n",
    "    for line in lines:\n",
    "        i_bo, i_en, score = line.strip().split(\"\\t\")\n",
    "        ins_bo.append(int(i_bo))\n",
    "        ins_en.append(int(i_en))\n",
    "        scores.append(score)\n",
    "    for i in range(len(lines)-1):\n",
    "        if ins_bo[i]==ins_bo[i+1] or ins_en[i]==ins_en[i+1]:\n",
    "            continue\n",
    "        en_text = \" \".join(en_lines[ins_en[i]:ins_en[i+1]])\n",
    "        bo_text = \"\".join(bo_lines[ins_bo[i]:ins_bo[i+1]])\n",
    "        data.append([bo_text, en_text, bo_url, en_url, scores[i]])"
   ]
  },
  {
   "cell_type": "code",
   "execution_count": 43,
   "metadata": {},
   "outputs": [],
   "source": [
    "import pandas as pd\n",
    "df = pd.DataFrame(data,columns=[\"source\", \"target\", \"source_url\", \"target_url\", \"alignment_score\"])"
   ]
  },
  {
   "cell_type": "code",
   "execution_count": 44,
   "metadata": {},
   "outputs": [
    {
     "data": {
      "text/html": [
       "<div>\n",
       "<style scoped>\n",
       "    .dataframe tbody tr th:only-of-type {\n",
       "        vertical-align: middle;\n",
       "    }\n",
       "\n",
       "    .dataframe tbody tr th {\n",
       "        vertical-align: top;\n",
       "    }\n",
       "\n",
       "    .dataframe thead th {\n",
       "        text-align: right;\n",
       "    }\n",
       "</style>\n",
       "<table border=\"1\" class=\"dataframe\">\n",
       "  <thead>\n",
       "    <tr style=\"text-align: right;\">\n",
       "      <th></th>\n",
       "      <th>source</th>\n",
       "      <th>target</th>\n",
       "      <th>source_url</th>\n",
       "      <th>target_url</th>\n",
       "      <th>alignment_score</th>\n",
       "    </tr>\n",
       "  </thead>\n",
       "  <tbody>\n",
       "    <tr>\n",
       "      <th>0</th>\n",
       "      <td>ལོག་ལྟའི་སྨག་འབྱིན་མུན་སེལ་ཉི་མ་བཞུགས།</td>\n",
       "      <td>A Sun to Banish the Darkness of Wrong Views</td>\n",
       "      <td>https://www.lotsawahouse.org/bo/tibetan-master...</td>\n",
       "      <td>https://www.lotsawahouse.org/tibetan-masters/j...</td>\n",
       "      <td>0.275</td>\n",
       "    </tr>\n",
       "    <tr>\n",
       "      <th>1</th>\n",
       "      <td>སྲིད་པའི་དྲྭ་བ་བྲལ་མཛད་ཅིང་། །</td>\n",
       "      <td>You cut apart the web of conditioned existence,</td>\n",
       "      <td>https://www.lotsawahouse.org/bo/tibetan-master...</td>\n",
       "      <td>https://www.lotsawahouse.org/tibetan-masters/j...</td>\n",
       "      <td>0.953226</td>\n",
       "    </tr>\n",
       "    <tr>\n",
       "      <th>2</th>\n",
       "      <td>ཉེས་བརྒྱའི་ཚངས་ཚིངས་བསྲེག་མཛད་པ། །</td>\n",
       "      <td>And burn away the thicket of abundant faults,</td>\n",
       "      <td>https://www.lotsawahouse.org/bo/tibetan-master...</td>\n",
       "      <td>https://www.lotsawahouse.org/tibetan-masters/j...</td>\n",
       "      <td>0.865714</td>\n",
       "    </tr>\n",
       "    <tr>\n",
       "      <th>3</th>\n",
       "      <td>བློ་གཏེར་རྡོ་རྗེ་རྣོན་པོ་ཡི། །</td>\n",
       "      <td>Treasury of Wisdom, Adamantine Sharpness,</td>\n",
       "      <td>https://www.lotsawahouse.org/bo/tibetan-master...</td>\n",
       "      <td>https://www.lotsawahouse.org/tibetan-masters/j...</td>\n",
       "      <td>0.660829</td>\n",
       "    </tr>\n",
       "    <tr>\n",
       "      <th>4</th>\n",
       "      <td>ཞབས་ལ་བཏུད་ནས་འདི་བརྗོད་བྱ། །</td>\n",
       "      <td>At your feet I bow, and impart this message.</td>\n",
       "      <td>https://www.lotsawahouse.org/bo/tibetan-master...</td>\n",
       "      <td>https://www.lotsawahouse.org/tibetan-masters/j...</td>\n",
       "      <td>1.355</td>\n",
       "    </tr>\n",
       "    <tr>\n",
       "      <th>...</th>\n",
       "      <td>...</td>\n",
       "      <td>...</td>\n",
       "      <td>...</td>\n",
       "      <td>...</td>\n",
       "      <td>...</td>\n",
       "    </tr>\n",
       "    <tr>\n",
       "      <th>33267</th>\n",
       "      <td>བདག་ཀྱང་དེང་ནས་ཚེ་རབས་ཐམས་ཅད་དུ། །</td>\n",
       "      <td>Now and in all my lives to come, may I always ...</td>\n",
       "      <td>https://www.lotsawahouse.org/bo/tibetan-master...</td>\n",
       "      <td>https://www.lotsawahouse.org/tibetan-masters/j...</td>\n",
       "      <td>1.27071</td>\n",
       "    </tr>\n",
       "    <tr>\n",
       "      <th>33268</th>\n",
       "      <td>དྲན་པ་ཡེ་ཤེས་མཆོག་དང་མི་འབྲལ་ཤོག །</td>\n",
       "      <td>From you, the sublime master Smṛtijñāna.</td>\n",
       "      <td>https://www.lotsawahouse.org/bo/tibetan-master...</td>\n",
       "      <td>https://www.lotsawahouse.org/tibetan-masters/j...</td>\n",
       "      <td>0.624762</td>\n",
       "    </tr>\n",
       "    <tr>\n",
       "      <th>33269</th>\n",
       "      <td>ཅེས་པའང་ས་ཁྱི་ཟླ་ཚེས་ལ་རྨི་ལམ་ཉིང་འཁྲུལ་གྱི་རྐ...</td>\n",
       "      <td>This garland of words arose during the Earth D...</td>\n",
       "      <td>https://www.lotsawahouse.org/bo/tibetan-master...</td>\n",
       "      <td>https://www.lotsawahouse.org/tibetan-masters/j...</td>\n",
       "      <td>0.279259</td>\n",
       "    </tr>\n",
       "    <tr>\n",
       "      <th>33270</th>\n",
       "      <td>མངྒ་ལཾ།།</td>\n",
       "      <td>Maṅgalam.</td>\n",
       "      <td>https://www.lotsawahouse.org/bo/tibetan-master...</td>\n",
       "      <td>https://www.lotsawahouse.org/tibetan-masters/j...</td>\n",
       "      <td>1.26667</td>\n",
       "    </tr>\n",
       "    <tr>\n",
       "      <th>33271</th>\n",
       "      <td>ཤུ་བྷཾ།། །།</td>\n",
       "      <td>Śubham.</td>\n",
       "      <td>https://www.lotsawahouse.org/bo/tibetan-master...</td>\n",
       "      <td>https://www.lotsawahouse.org/tibetan-masters/j...</td>\n",
       "      <td>1.15</td>\n",
       "    </tr>\n",
       "  </tbody>\n",
       "</table>\n",
       "<p>33272 rows × 5 columns</p>\n",
       "</div>"
      ],
      "text/plain": [
       "                                                  source  ... alignment_score\n",
       "0                 ལོག་ལྟའི་སྨག་འབྱིན་མུན་སེལ་ཉི་མ་བཞུགས།  ...           0.275\n",
       "1                         སྲིད་པའི་དྲྭ་བ་བྲལ་མཛད་ཅིང་། །  ...        0.953226\n",
       "2                     ཉེས་བརྒྱའི་ཚངས་ཚིངས་བསྲེག་མཛད་པ། །  ...        0.865714\n",
       "3                         བློ་གཏེར་རྡོ་རྗེ་རྣོན་པོ་ཡི། །  ...        0.660829\n",
       "4                          ཞབས་ལ་བཏུད་ནས་འདི་བརྗོད་བྱ། །  ...           1.355\n",
       "...                                                  ...  ...             ...\n",
       "33267                 བདག་ཀྱང་དེང་ནས་ཚེ་རབས་ཐམས་ཅད་དུ། །  ...         1.27071\n",
       "33268                 དྲན་པ་ཡེ་ཤེས་མཆོག་དང་མི་འབྲལ་ཤོག །  ...        0.624762\n",
       "33269  ཅེས་པའང་ས་ཁྱི་ཟླ་ཚེས་ལ་རྨི་ལམ་ཉིང་འཁྲུལ་གྱི་རྐ...  ...        0.279259\n",
       "33270                                           མངྒ་ལཾ།།  ...         1.26667\n",
       "33271                                        ཤུ་བྷཾ།། །།  ...            1.15\n",
       "\n",
       "[33272 rows x 5 columns]"
      ]
     },
     "execution_count": 44,
     "metadata": {},
     "output_type": "execute_result"
    }
   ],
   "source": [
    "df"
   ]
  },
  {
   "cell_type": "code",
   "execution_count": 45,
   "metadata": {},
   "outputs": [],
   "source": [
    "df.to_csv(\"bisent_lotsawa_noninterlace.csv\", index=False)"
   ]
  },
  {
   "cell_type": "code",
   "execution_count": 46,
   "metadata": {},
   "outputs": [],
   "source": [
    "df.sample(30, random_state=33).to_csv(\"bisent_lotsawa_noninterlace_sample30.csv\", index=False)"
   ]
  },
  {
   "cell_type": "code",
   "execution_count": 47,
   "metadata": {},
   "outputs": [
    {
     "data": {
      "text/plain": [
       "33272"
      ]
     },
     "execution_count": 47,
     "metadata": {},
     "output_type": "execute_result"
    }
   ],
   "source": []
  },
  {
   "cell_type": "code",
   "execution_count": null,
   "metadata": {},
   "outputs": [],
   "source": []
  }
 ],
 "metadata": {
  "kernelspec": {
   "display_name": "Python 3",
   "language": "python",
   "name": "python3"
  },
  "language_info": {
   "codemirror_mode": {
    "name": "ipython",
    "version": 3
   },
   "file_extension": ".py",
   "mimetype": "text/x-python",
   "name": "python",
   "nbconvert_exporter": "python",
   "pygments_lexer": "ipython3",
   "version": "3.8.5"
  }
 },
 "nbformat": 4,
 "nbformat_minor": 4
}
