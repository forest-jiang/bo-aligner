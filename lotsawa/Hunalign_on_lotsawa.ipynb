{
 "cells": [
  {
   "cell_type": "code",
   "execution_count": 4,
   "metadata": {},
   "outputs": [
    {
     "name": "stdout",
     "output_type": "stream",
     "text": [
      "The autoreload extension is already loaded. To reload it, use:\n",
      "  %reload_ext autoreload\n"
     ]
    }
   ],
   "source": [
    "%load_ext autoreload\n",
    "%autoreload 2"
   ]
  },
  {
   "cell_type": "code",
   "execution_count": 5,
   "metadata": {},
   "outputs": [],
   "source": [
    "import pandas as pd\n",
    "from common_util import *\n",
    "data = pd.read_csv(\"bisent_lotsawa_interlace.csv\")\n",
    "nlp = get_nlp()"
   ]
  },
  {
   "cell_type": "code",
   "execution_count": 39,
   "metadata": {
    "scrolled": true
   },
   "outputs": [
    {
     "name": "stdout",
     "output_type": "stream",
     "text": [
      "0\n"
     ]
    },
    {
     "name": "stderr",
     "output_type": "stream",
     "text": [
      "/usr/local/lib/python3.8/site-packages/botok/textunits/bostring.py:82: UserWarning: Beware of unexpected results: input string contains the non-expanded char \"ༀ\", found in \"ༀ་འཇིག་རྟེ\".\n",
      "  warn(\n",
      "/usr/local/lib/python3.8/site-packages/botok/textunits/bostring.py:82: UserWarning: Beware of unexpected results: input string contains the non-expanded char \"དྷ\", found in \"\".\n",
      "  warn(\n",
      "/usr/local/lib/python3.8/site-packages/botok/textunits/bostring.py:82: UserWarning: Beware of unexpected results: input string contains the non-expanded char \"བྷ\", found in \"\".\n",
      "  warn(\n"
     ]
    },
    {
     "name": "stdout",
     "output_type": "stream",
     "text": [
      "1000\n"
     ]
    },
    {
     "name": "stderr",
     "output_type": "stream",
     "text": [
      "/usr/local/lib/python3.8/site-packages/botok/textunits/bostring.py:82: UserWarning: Beware of unexpected results: input string contains the non-expanded char \"ཱི\", found in \"\".\n",
      "  warn(\n",
      "/usr/local/lib/python3.8/site-packages/botok/textunits/bostring.py:82: UserWarning: Beware of unexpected results: input string contains the non-expanded char \"ཱི\", found in \"ཱི\".\n",
      "  warn(\n",
      "/usr/local/lib/python3.8/site-packages/botok/textunits/bostring.py:82: UserWarning: Beware of unexpected results: input string contains the non-expanded char \"ཱུ\", found in \"\".\n",
      "  warn(\n"
     ]
    },
    {
     "name": "stdout",
     "output_type": "stream",
     "text": [
      "2000\n"
     ]
    },
    {
     "name": "stderr",
     "output_type": "stream",
     "text": [
      "/usr/local/lib/python3.8/site-packages/botok/textunits/bostring.py:82: UserWarning: Beware of unexpected results: input string contains the non-expanded char \"ྡྷ\", found in \"\".\n",
      "  warn(\n"
     ]
    },
    {
     "name": "stdout",
     "output_type": "stream",
     "text": [
      "3000\n"
     ]
    },
    {
     "name": "stderr",
     "output_type": "stream",
     "text": [
      "/usr/local/lib/python3.8/site-packages/botok/textunits/bostring.py:82: UserWarning: Beware of unexpected results: input string contains the non-expanded char \"ༀ\", found in \"ༀ། ཡེ་ཤེས་\".\n",
      "  warn(\n"
     ]
    },
    {
     "name": "stdout",
     "output_type": "stream",
     "text": [
      "4000\n"
     ]
    },
    {
     "name": "stderr",
     "output_type": "stream",
     "text": [
      "/usr/local/lib/python3.8/site-packages/botok/textunits/bostring.py:82: UserWarning: Beware of unexpected results: input string contains the non-expanded char \"ༀ\", found in \"ༀ་ཨཱཿཧཱུྃ་\".\n",
      "  warn(\n",
      "/usr/local/lib/python3.8/site-packages/botok/textunits/bostring.py:82: UserWarning: Beware of unexpected results: input string contains the non-expanded char \"ༀ\", found in \"ༀ་ནི་གཏིང་\".\n",
      "  warn(\n",
      "/usr/local/lib/python3.8/site-packages/botok/textunits/bostring.py:82: UserWarning: Beware of unexpected results: input string contains the non-expanded char \"ༀ\", found in \"ༀ་ནི་དང་པོ\".\n",
      "  warn(\n",
      "/usr/local/lib/python3.8/site-packages/botok/textunits/bostring.py:82: UserWarning: Beware of unexpected results: input string contains the non-expanded char \"ༀ\", found in \"ༀ་ཡིག་འཆི་\".\n",
      "  warn(\n",
      "/usr/local/lib/python3.8/site-packages/botok/textunits/bostring.py:82: UserWarning: Beware of unexpected results: input string contains the non-expanded char \"ༀ\", found in \"ༀ་ཡིག་མཁའ་\".\n",
      "  warn(\n",
      "/usr/local/lib/python3.8/site-packages/botok/textunits/bostring.py:82: UserWarning: Beware of unexpected results: input string contains the non-expanded char \"ༀ\", found in \"ༀ་ཡིག་བཀྲ་\".\n",
      "  warn(\n",
      "/usr/local/lib/python3.8/site-packages/botok/textunits/bostring.py:82: UserWarning: Beware of unexpected results: input string contains the non-expanded char \"ༀ\", found in \"ༀ་ཡིག་ཆོས་\".\n",
      "  warn(\n"
     ]
    },
    {
     "name": "stdout",
     "output_type": "stream",
     "text": [
      "5000\n"
     ]
    },
    {
     "name": "stderr",
     "output_type": "stream",
     "text": [
      "/usr/local/lib/python3.8/site-packages/botok/textunits/bostring.py:82: UserWarning: Beware of unexpected results: input string contains the non-expanded char \"ཱུ\", found in \"ཱུྂ\".\n",
      "  warn(\n",
      "/usr/local/lib/python3.8/site-packages/botok/textunits/bostring.py:82: UserWarning: Beware of unexpected results: input string contains the non-expanded char \"ཱུ\", found in \"ཱུྂ་ལས་བླ་\".\n",
      "  warn(\n",
      "/usr/local/lib/python3.8/site-packages/botok/textunits/bostring.py:82: UserWarning: Beware of unexpected results: input string contains the non-expanded char \"ཱུ\", found in \"ཱུྂ་ཡིག་མཐ\".\n",
      "  warn(\n"
     ]
    },
    {
     "name": "stdout",
     "output_type": "stream",
     "text": [
      "6000\n"
     ]
    },
    {
     "name": "stderr",
     "output_type": "stream",
     "text": [
      "/usr/local/lib/python3.8/site-packages/botok/textunits/bostring.py:82: UserWarning: Beware of unexpected results: input string contains the non-expanded char \"ༀ\", found in \"ༀ་ཨཱཿཧཱུྃ་ས\".\n",
      "  warn(\n",
      "/usr/local/lib/python3.8/site-packages/botok/textunits/bostring.py:82: UserWarning: Beware of unexpected results: input string contains the non-expanded char \"ཱུ\", found in \"ཱུྃ་ས\".\n",
      "  warn(\n",
      "/usr/local/lib/python3.8/site-packages/botok/textunits/bostring.py:82: UserWarning: Beware of unexpected results: input string contains the non-expanded char \"ༀ\", found in \"\".\n",
      "  warn(\n",
      "/usr/local/lib/python3.8/site-packages/botok/textunits/bostring.py:82: UserWarning: Beware of unexpected results: input string contains the non-expanded char \"ཱུ\", found in \"ཱུྃ༔ བཀྲ་ཤ\".\n",
      "  warn(\n",
      "/usr/local/lib/python3.8/site-packages/botok/textunits/bostring.py:82: UserWarning: Beware of unexpected results: input string contains the non-expanded char \"ཱུ\", found in \"ཱུྃ\".\n",
      "  warn(\n"
     ]
    },
    {
     "name": "stdout",
     "output_type": "stream",
     "text": [
      "7000\n"
     ]
    },
    {
     "name": "stderr",
     "output_type": "stream",
     "text": [
      "/usr/local/lib/python3.8/site-packages/botok/textunits/bostring.py:82: UserWarning: Beware of unexpected results: input string contains the non-expanded char \"ཀྵ\", found in \"\".\n",
      "  warn(\n"
     ]
    },
    {
     "name": "stdout",
     "output_type": "stream",
     "text": [
      "8000\n",
      "9000\n"
     ]
    },
    {
     "name": "stderr",
     "output_type": "stream",
     "text": [
      "/usr/local/lib/python3.8/site-packages/botok/textunits/bostring.py:82: UserWarning: Beware of unexpected results: input string contains the non-expanded char \"ཱུ\", found in \"ཱུྃ་བཞིའི་\".\n",
      "  warn(\n",
      "/usr/local/lib/python3.8/site-packages/botok/textunits/bostring.py:82: UserWarning: Beware of unexpected results: input string contains the non-expanded char \"ༀ\", found in \"ༀ་ཨཱཿཧཱུྃ། \".\n",
      "  warn(\n",
      "/usr/local/lib/python3.8/site-packages/botok/textunits/bostring.py:82: UserWarning: Beware of unexpected results: input string contains the non-expanded char \"ཱུ\", found in \"ཱུྃ། \".\n",
      "  warn(\n",
      "/usr/local/lib/python3.8/site-packages/botok/textunits/bostring.py:82: UserWarning: Beware of unexpected results: input string contains the non-expanded char \"ༀ\", found in \"ༀ་བཛྲ་ཨརྒྷ\".\n",
      "  warn(\n",
      "/usr/local/lib/python3.8/site-packages/botok/textunits/bostring.py:82: UserWarning: Beware of unexpected results: input string contains the non-expanded char \"ༀ\", found in \"ༀ་པདྨོ་ཡོ་\".\n",
      "  warn(\n",
      "/usr/local/lib/python3.8/site-packages/botok/textunits/bostring.py:82: UserWarning: Beware of unexpected results: input string contains the non-expanded char \"ༀ\", found in \"ༀ་གུ་ཧྱ་ཛྙ\".\n",
      "  warn(\n",
      "/usr/local/lib/python3.8/site-packages/botok/textunits/bostring.py:82: UserWarning: Beware of unexpected results: input string contains the non-expanded char \"ༀ\", found in \"ༀ་ཨཱ༔ཧཱུྃ་ག\".\n",
      "  warn(\n",
      "/usr/local/lib/python3.8/site-packages/botok/textunits/bostring.py:82: UserWarning: Beware of unexpected results: input string contains the non-expanded char \"ཱུ\", found in \"ཱུྃ་ག\".\n",
      "  warn(\n",
      "/usr/local/lib/python3.8/site-packages/botok/textunits/bostring.py:82: UserWarning: Beware of unexpected results: input string contains the non-expanded char \"ཱུ\", found in \"ཱུྃ༔ འོག་མ\".\n",
      "  warn(\n",
      "/usr/local/lib/python3.8/site-packages/botok/textunits/bostring.py:82: UserWarning: Beware of unexpected results: input string contains the non-expanded char \"ཱུ\", found in \"ཱུྃ། སྣང་ས\".\n",
      "  warn(\n",
      "/usr/local/lib/python3.8/site-packages/botok/textunits/bostring.py:82: UserWarning: Beware of unexpected results: input string contains the non-expanded char \"ༀ\", found in \"ༀ་ཨ་ཀཱ་རོ་\".\n",
      "  warn(\n",
      "/usr/local/lib/python3.8/site-packages/botok/textunits/bostring.py:82: UserWarning: Beware of unexpected results: input string contains the non-expanded char \"ཱུ\", found in \"ཱུྃ༔ ཡེ་ཤེ\".\n",
      "  warn(\n",
      "/usr/local/lib/python3.8/site-packages/botok/textunits/bostring.py:82: UserWarning: Beware of unexpected results: input string contains the non-expanded char \"ༀ\", found in \"ༀ་བཛྲ་ས་ཏྭ\".\n",
      "  warn(\n"
     ]
    },
    {
     "name": "stdout",
     "output_type": "stream",
     "text": [
      "10000\n",
      "11000\n"
     ]
    },
    {
     "name": "stderr",
     "output_type": "stream",
     "text": [
      "/usr/local/lib/python3.8/site-packages/botok/textunits/bostring.py:82: UserWarning: Beware of unexpected results: input string contains the non-expanded char \"ༀ\", found in \"ༀ་ཏཱ་རེ་ཏུ\".\n",
      "  warn(\n"
     ]
    },
    {
     "name": "stdout",
     "output_type": "stream",
     "text": [
      "12000\n",
      "13000\n",
      "14000\n",
      "15000\n"
     ]
    },
    {
     "name": "stderr",
     "output_type": "stream",
     "text": [
      "/usr/local/lib/python3.8/site-packages/botok/textunits/bostring.py:82: UserWarning: Beware of unexpected results: input string contains the non-expanded char \"ཱུ\", found in \"ཱུྂ་ཀར་རྗེ\".\n",
      "  warn(\n"
     ]
    },
    {
     "name": "stdout",
     "output_type": "stream",
     "text": [
      "16000\n",
      "17000\n"
     ]
    },
    {
     "name": "stderr",
     "output_type": "stream",
     "text": [
      "/usr/local/lib/python3.8/site-packages/botok/textunits/bostring.py:82: UserWarning: Beware of unexpected results: input string contains the non-expanded char \"ཱུ\", found in \"ཱུྃ། རང་བྱ\".\n",
      "  warn(\n",
      "/usr/local/lib/python3.8/site-packages/botok/textunits/bostring.py:82: UserWarning: Beware of unexpected results: input string contains the non-expanded char \"ཱུ\", found in \"ཱུ\".\n",
      "  warn(\n",
      "/usr/local/lib/python3.8/site-packages/botok/textunits/bostring.py:82: UserWarning: Beware of unexpected results: input string contains the non-expanded char \"ཱུ\", found in \"ཱུྃཿཧཱུྃཿཧཱུ\".\n",
      "  warn(\n",
      "/usr/local/lib/python3.8/site-packages/botok/textunits/bostring.py:82: UserWarning: Beware of unexpected results: input string contains the non-expanded char \"ཱུ\", found in \"ཱུྃཿཧཱུ\".\n",
      "  warn(\n",
      "/usr/local/lib/python3.8/site-packages/botok/textunits/bostring.py:82: UserWarning: Beware of unexpected results: input string contains the non-expanded char \"ཱུ\", found in \"ཱུྃ་ཆེན་སྔ\".\n",
      "  warn(\n",
      "/usr/local/lib/python3.8/site-packages/botok/textunits/bostring.py:82: UserWarning: Beware of unexpected results: input string contains the non-expanded char \"ཱུ\", found in \"ཱུྃ། བདག་ཉ\".\n",
      "  warn(\n",
      "/usr/local/lib/python3.8/site-packages/botok/textunits/bostring.py:82: UserWarning: Beware of unexpected results: input string contains the non-expanded char \"ཱུ\", found in \"ཱུརྻ་ཙ\".\n",
      "  warn(\n",
      "/usr/local/lib/python3.8/site-packages/botok/textunits/bostring.py:82: UserWarning: Beware of unexpected results: input string contains the non-expanded char \"ཱུ\", found in \"ཱུཾཿ དབྱིང\".\n",
      "  warn(\n",
      "/usr/local/lib/python3.8/site-packages/botok/textunits/bostring.py:82: UserWarning: Beware of unexpected results: input string contains the non-expanded char \"ཱུ\", found in \"ཱུཾ་ལས་ར\".\n",
      "  warn(\n",
      "/usr/local/lib/python3.8/site-packages/botok/textunits/bostring.py:82: UserWarning: Beware of unexpected results: input string contains the non-expanded char \"ཱུ\", found in \"ཱུྃ་ལས་གནམ\".\n",
      "  warn(\n",
      "/usr/local/lib/python3.8/site-packages/botok/textunits/bostring.py:82: UserWarning: Beware of unexpected results: input string contains the non-expanded char \"ཱུ\", found in \"ཱུྃ་རཏྣ་\".\n",
      "  warn(\n",
      "/usr/local/lib/python3.8/site-packages/botok/textunits/bostring.py:82: UserWarning: Beware of unexpected results: input string contains the non-expanded char \"ཱུ\", found in \"ཱུྃ་ཡིག་\".\n",
      "  warn(\n",
      "/usr/local/lib/python3.8/site-packages/botok/textunits/bostring.py:82: UserWarning: Beware of unexpected results: input string contains the non-expanded char \"ཱུ\", found in \"ཱུ་རྻ་མ་\".\n",
      "  warn(\n",
      "/usr/local/lib/python3.8/site-packages/botok/textunits/bostring.py:82: UserWarning: Beware of unexpected results: input string contains the non-expanded char \"ཱུ\", found in \"ཱུྃ། རང་ལས\".\n",
      "  warn(\n",
      "/usr/local/lib/python3.8/site-packages/botok/textunits/bostring.py:82: UserWarning: Beware of unexpected results: input string contains the non-expanded char \"ཱུ\", found in \"ཱུྃ་སྭ\".\n",
      "  warn(\n",
      "/usr/local/lib/python3.8/site-packages/botok/textunits/bostring.py:82: UserWarning: Beware of unexpected results: input string contains the non-expanded char \"ཱུ\", found in \"ཱུྃ། འོག་མ\".\n",
      "  warn(\n",
      "/usr/local/lib/python3.8/site-packages/botok/textunits/bostring.py:82: UserWarning: Beware of unexpected results: input string contains the non-expanded char \"ཱུ\", found in \"ཱུྃ། མ་དག་\".\n",
      "  warn(\n",
      "/usr/local/lib/python3.8/site-packages/botok/textunits/bostring.py:82: UserWarning: Beware of unexpected results: input string contains the non-expanded char \"ཱུ\", found in \"ཱུྃ། བླ་མེ\".\n",
      "  warn(\n",
      "/usr/local/lib/python3.8/site-packages/botok/textunits/bostring.py:82: UserWarning: Beware of unexpected results: input string contains the non-expanded char \"ཱུ\", found in \"ཱུྃ་བྃ་ཧ\".\n",
      "  warn(\n",
      "/usr/local/lib/python3.8/site-packages/botok/textunits/bostring.py:82: UserWarning: Beware of unexpected results: input string contains the non-expanded char \"ཱུ\", found in \"ཱུྃ། མི་སྡ\".\n",
      "  warn(\n",
      "/usr/local/lib/python3.8/site-packages/botok/textunits/bostring.py:82: UserWarning: Beware of unexpected results: input string contains the non-expanded char \"ཱུ\", found in \"ཱུྃ། དཔལ་ཆ\".\n",
      "  warn(\n",
      "/usr/local/lib/python3.8/site-packages/botok/textunits/bostring.py:82: UserWarning: Beware of unexpected results: input string contains the non-expanded char \"ཱུ\", found in \"ཱུྃ། སངས་ར\".\n",
      "  warn(\n",
      "/usr/local/lib/python3.8/site-packages/botok/textunits/bostring.py:82: UserWarning: Beware of unexpected results: input string contains the non-expanded char \"ཱུ\", found in \"ཱུྃ། བདག་ག\".\n",
      "  warn(\n",
      "/usr/local/lib/python3.8/site-packages/botok/textunits/bostring.py:82: UserWarning: Beware of unexpected results: input string contains the non-expanded char \"ཱུ\", found in \"ཱུྃ། མ་རིག\".\n",
      "  warn(\n",
      "/usr/local/lib/python3.8/site-packages/botok/textunits/bostring.py:82: UserWarning: Beware of unexpected results: input string contains the non-expanded char \"ཱུ\", found in \"ཱུྃ། རྣམ་ད\".\n",
      "  warn(\n",
      "/usr/local/lib/python3.8/site-packages/botok/textunits/bostring.py:82: UserWarning: Beware of unexpected results: input string contains the non-expanded char \"ཱུ\", found in \"ཱུྃ། བྱིན་\".\n",
      "  warn(\n",
      "/usr/local/lib/python3.8/site-packages/botok/textunits/bostring.py:82: UserWarning: Beware of unexpected results: input string contains the non-expanded char \"ཱུ\", found in \"ཱུྃ། སྣོད་\".\n",
      "  warn(\n",
      "/usr/local/lib/python3.8/site-packages/botok/textunits/bostring.py:82: UserWarning: Beware of unexpected results: input string contains the non-expanded char \"ཱུ\", found in \"ཱུྃ། །སྣང་\".\n",
      "  warn(\n"
     ]
    },
    {
     "name": "stdout",
     "output_type": "stream",
     "text": [
      "18000\n",
      "19000\n"
     ]
    },
    {
     "name": "stderr",
     "output_type": "stream",
     "text": [
      "/usr/local/lib/python3.8/site-packages/botok/textunits/bostring.py:82: UserWarning: Beware of unexpected results: input string contains the non-expanded char \"ཱུ\", found in \"ཱུྃ་ཨ\".\n",
      "  warn(\n",
      "/usr/local/lib/python3.8/site-packages/botok/textunits/bostring.py:82: UserWarning: Beware of unexpected results: input string contains the non-expanded char \"ཱུ\", found in \"ཱུྃ། བསྐལ་\".\n",
      "  warn(\n",
      "/usr/local/lib/python3.8/site-packages/botok/textunits/bostring.py:82: UserWarning: Beware of unexpected results: input string contains the non-expanded char \"ཱུ\", found in \"ཱུྃ་ཆེན་ཀཱ\".\n",
      "  warn(\n",
      "/usr/local/lib/python3.8/site-packages/botok/textunits/bostring.py:82: UserWarning: Beware of unexpected results: input string contains the non-expanded char \"ཱུ\", found in \"ཱུྃ། ལྷོ་ཕ\".\n",
      "  warn(\n",
      "/usr/local/lib/python3.8/site-packages/botok/textunits/bostring.py:82: UserWarning: Beware of unexpected results: input string contains the non-expanded char \"ཱུ\", found in \"ཱུྃ། ནུབ་ཕ\".\n",
      "  warn(\n",
      "/usr/local/lib/python3.8/site-packages/botok/textunits/bostring.py:82: UserWarning: Beware of unexpected results: input string contains the non-expanded char \"ཱུ\", found in \"ཱུྃ། བྱང་ཕ\".\n",
      "  warn(\n",
      "/usr/local/lib/python3.8/site-packages/botok/textunits/bostring.py:82: UserWarning: Beware of unexpected results: input string contains the non-expanded char \"ཱུ\", found in \"ཱུྃ། ཤར་ལྷ\".\n",
      "  warn(\n",
      "/usr/local/lib/python3.8/site-packages/botok/textunits/bostring.py:82: UserWarning: Beware of unexpected results: input string contains the non-expanded char \"ཱུ\", found in \"ཱུྃ། ལྷོ་ན\".\n",
      "  warn(\n",
      "/usr/local/lib/python3.8/site-packages/botok/textunits/bostring.py:82: UserWarning: Beware of unexpected results: input string contains the non-expanded char \"ཱུ\", found in \"ཱུྃ། ནུབ་བ\".\n",
      "  warn(\n",
      "/usr/local/lib/python3.8/site-packages/botok/textunits/bostring.py:82: UserWarning: Beware of unexpected results: input string contains the non-expanded char \"ཱུ\", found in \"ཱུྃ། བྱང་ཤ\".\n",
      "  warn(\n",
      "/usr/local/lib/python3.8/site-packages/botok/textunits/bostring.py:82: UserWarning: Beware of unexpected results: input string contains the non-expanded char \"ཱུ\", found in \"ཱུྃ་ཧཱུྃ་ཧཱུ\".\n",
      "  warn(\n",
      "/usr/local/lib/python3.8/site-packages/botok/textunits/bostring.py:82: UserWarning: Beware of unexpected results: input string contains the non-expanded char \"ཱུ\", found in \"ཱུྃ་ཧཱུ\".\n",
      "  warn(\n",
      "/usr/local/lib/python3.8/site-packages/botok/textunits/bostring.py:82: UserWarning: Beware of unexpected results: input string contains the non-expanded char \"ཱུ\", found in \"ཱུཾཿ བདེ་ག\".\n",
      "  warn(\n",
      "/usr/local/lib/python3.8/site-packages/botok/textunits/bostring.py:82: UserWarning: Beware of unexpected results: input string contains the non-expanded char \"ཱུ\", found in \"ཱུཾཿ ཆོས་ཀ\".\n",
      "  warn(\n",
      "/usr/local/lib/python3.8/site-packages/botok/textunits/bostring.py:82: UserWarning: Beware of unexpected results: input string contains the non-expanded char \"ཱུ\", found in \"ཱུྃཿ ང་ནི་\".\n",
      "  warn(\n",
      "/usr/local/lib/python3.8/site-packages/botok/textunits/bostring.py:82: UserWarning: Beware of unexpected results: input string contains the non-expanded char \"ཱུ\", found in \"ཱུྃཿ བདག་ཉ\".\n",
      "  warn(\n",
      "/usr/local/lib/python3.8/site-packages/botok/textunits/bostring.py:82: UserWarning: Beware of unexpected results: input string contains the non-expanded char \"ཱུ\", found in \"ཱུཾཿ མ་རིག\".\n",
      "  warn(\n",
      "/usr/local/lib/python3.8/site-packages/botok/textunits/bostring.py:82: UserWarning: Beware of unexpected results: input string contains the non-expanded char \"ཱུ\", found in \"ཱུཾཿ དཔལ་ཆ\".\n",
      "  warn(\n",
      "/usr/local/lib/python3.8/site-packages/botok/textunits/bostring.py:82: UserWarning: Beware of unexpected results: input string contains the non-expanded char \"ཱུ\", found in \"ཱུཾཿ རང་བྱ\".\n",
      "  warn(\n",
      "/usr/local/lib/python3.8/site-packages/botok/textunits/bostring.py:82: UserWarning: Beware of unexpected results: input string contains the non-expanded char \"ཱུ\", found in \"ཱུཾ་རཏྣ་\".\n",
      "  warn(\n",
      "/usr/local/lib/python3.8/site-packages/botok/textunits/bostring.py:82: UserWarning: Beware of unexpected results: input string contains the non-expanded char \"ཱུ\", found in \"ཱུཾ་ཡིག་\".\n",
      "  warn(\n",
      "/usr/local/lib/python3.8/site-packages/botok/textunits/bostring.py:82: UserWarning: Beware of unexpected results: input string contains the non-expanded char \"ཱུ\", found in \"ཱུརྻ་མཎ\".\n",
      "  warn(\n",
      "/usr/local/lib/python3.8/site-packages/botok/textunits/bostring.py:82: UserWarning: Beware of unexpected results: input string contains the non-expanded char \"ཱུ\", found in \"ཱུཾཿཧཱུཾཿཧཱུ\".\n",
      "  warn(\n",
      "/usr/local/lib/python3.8/site-packages/botok/textunits/bostring.py:82: UserWarning: Beware of unexpected results: input string contains the non-expanded char \"ཱུ\", found in \"ཱུཾཿཧཱུ\".\n",
      "  warn(\n",
      "/usr/local/lib/python3.8/site-packages/botok/textunits/bostring.py:82: UserWarning: Beware of unexpected results: input string contains the non-expanded char \"ཱུ\", found in \"ཱུཾཿ རང་ལས\".\n",
      "  warn(\n",
      "/usr/local/lib/python3.8/site-packages/botok/textunits/bostring.py:82: UserWarning: Beware of unexpected results: input string contains the non-expanded char \"ཱུ\", found in \"ཱུཾཿ འོག་མ\".\n",
      "  warn(\n",
      "/usr/local/lib/python3.8/site-packages/botok/textunits/bostring.py:82: UserWarning: Beware of unexpected results: input string contains the non-expanded char \"ཱུ\", found in \"ཱུཾཿ མ་དག་\".\n",
      "  warn(\n",
      "/usr/local/lib/python3.8/site-packages/botok/textunits/bostring.py:82: UserWarning: Beware of unexpected results: input string contains the non-expanded char \"ཱུ\", found in \"ཱུཾཿ སྒེག་\".\n",
      "  warn(\n",
      "/usr/local/lib/python3.8/site-packages/botok/textunits/bostring.py:82: UserWarning: Beware of unexpected results: input string contains the non-expanded char \"ཱུ\", found in \"ཱུཾཿ དགའ་བ\".\n",
      "  warn(\n",
      "/usr/local/lib/python3.8/site-packages/botok/textunits/bostring.py:82: UserWarning: Beware of unexpected results: input string contains the non-expanded char \"ཱུ\", found in \"ཱུཾཿ ཉེར་ས\".\n",
      "  warn(\n",
      "/usr/local/lib/python3.8/site-packages/botok/textunits/bostring.py:82: UserWarning: Beware of unexpected results: input string contains the non-expanded char \"ཱུ\", found in \"ཱུཾཿ འདོད་\".\n",
      "  warn(\n"
     ]
    },
    {
     "name": "stdout",
     "output_type": "stream",
     "text": [
      "20000\n"
     ]
    },
    {
     "name": "stderr",
     "output_type": "stream",
     "text": [
      "/usr/local/lib/python3.8/site-packages/botok/textunits/bostring.py:82: UserWarning: Beware of unexpected results: input string contains the non-expanded char \"ཱུ\", found in \"ཱུཾཿ བྷ་ག་\".\n",
      "  warn(\n",
      "/usr/local/lib/python3.8/site-packages/botok/textunits/bostring.py:82: UserWarning: Beware of unexpected results: input string contains the non-expanded char \"ཱུ\", found in \"ཱུཾཿ ལྕང་ལ\".\n",
      "  warn(\n",
      "/usr/local/lib/python3.8/site-packages/botok/textunits/bostring.py:82: UserWarning: Beware of unexpected results: input string contains the non-expanded char \"ཱུ\", found in \"ཱུཾཿ ཡབ་དང\".\n",
      "  warn(\n",
      "/usr/local/lib/python3.8/site-packages/botok/textunits/bostring.py:82: UserWarning: Beware of unexpected results: input string contains the non-expanded char \"ཱུ\", found in \"ཱུཾཿ རྡོ་ར\".\n",
      "  warn(\n",
      "/usr/local/lib/python3.8/site-packages/botok/textunits/bostring.py:82: UserWarning: Beware of unexpected results: input string contains the non-expanded char \"ཱུ\", found in \"ཱུཾཿ མི་སྡ\".\n",
      "  warn(\n",
      "/usr/local/lib/python3.8/site-packages/botok/textunits/bostring.py:82: UserWarning: Beware of unexpected results: input string contains the non-expanded char \"ཱུ\", found in \"ཱུཾཿ སངས་ར\".\n",
      "  warn(\n",
      "/usr/local/lib/python3.8/site-packages/botok/textunits/bostring.py:82: UserWarning: Beware of unexpected results: input string contains the non-expanded char \"ཱུ\", found in \"ཱུཾཿ གང་ཞི\".\n",
      "  warn(\n",
      "/usr/local/lib/python3.8/site-packages/botok/textunits/bostring.py:82: UserWarning: Beware of unexpected results: input string contains the non-expanded char \"ཱུ\", found in \"ཱུཾཿ རྣམ་ད\".\n",
      "  warn(\n",
      "/usr/local/lib/python3.8/site-packages/botok/textunits/bostring.py:82: UserWarning: Beware of unexpected results: input string contains the non-expanded char \"ཱུ\", found in \"ཱུཾཿ མི་གན\".\n",
      "  warn(\n",
      "/usr/local/lib/python3.8/site-packages/botok/textunits/bostring.py:82: UserWarning: Beware of unexpected results: input string contains the non-expanded char \"ཱུ\", found in \"ཱུཾཿ དུས་ག\".\n",
      "  warn(\n",
      "/usr/local/lib/python3.8/site-packages/botok/textunits/bostring.py:82: UserWarning: Beware of unexpected results: input string contains the non-expanded char \"ཱུ\", found in \"ཱུཾཿ དམ་སྲ\".\n",
      "  warn(\n",
      "/usr/local/lib/python3.8/site-packages/botok/textunits/bostring.py:82: UserWarning: Beware of unexpected results: input string contains the non-expanded char \"ཱུ\", found in \"ཱུཾཿ བྱིན་\".\n",
      "  warn(\n",
      "/usr/local/lib/python3.8/site-packages/botok/textunits/bostring.py:82: UserWarning: Beware of unexpected results: input string contains the non-expanded char \"ཱུ\", found in \"ཱུཾཿ སྣོད་\".\n",
      "  warn(\n",
      "/usr/local/lib/python3.8/site-packages/botok/textunits/bostring.py:82: UserWarning: Beware of unexpected results: input string contains the non-expanded char \"ཱུ\", found in \"ཱུཾཿ སྣང་ག\".\n",
      "  warn(\n",
      "/usr/local/lib/python3.8/site-packages/botok/textunits/bostring.py:82: UserWarning: Beware of unexpected results: input string contains the non-expanded char \"ཱུ\", found in \"ཱུཾཿ གདོད་\".\n",
      "  warn(\n",
      "/usr/local/lib/python3.8/site-packages/botok/textunits/bostring.py:82: UserWarning: Beware of unexpected results: input string contains the non-expanded char \"ཱུ\", found in \"ཱུྃ་དཀར་བཤ\".\n",
      "  warn(\n"
     ]
    },
    {
     "name": "stdout",
     "output_type": "stream",
     "text": [
      "21000\n",
      "22000\n",
      "23000\n"
     ]
    },
    {
     "name": "stderr",
     "output_type": "stream",
     "text": [
      "/usr/local/lib/python3.8/site-packages/botok/textunits/bostring.py:82: UserWarning: Beware of unexpected results: input string contains the non-expanded char \"ༀ\", found in \"ༀ་བཛྲ་ཀཱི་\".\n",
      "  warn(\n"
     ]
    },
    {
     "name": "stdout",
     "output_type": "stream",
     "text": [
      "24000\n",
      "25000\n"
     ]
    },
    {
     "name": "stderr",
     "output_type": "stream",
     "text": [
      "/usr/local/lib/python3.8/site-packages/botok/textunits/bostring.py:82: UserWarning: Beware of unexpected results: input string contains the non-expanded char \"ༀ\", found in \"ༀ་ཙཎྜ་མ་ཧཱ\".\n",
      "  warn(\n"
     ]
    },
    {
     "name": "stdout",
     "output_type": "stream",
     "text": [
      "26000\n",
      "27000\n",
      "28000\n",
      "29000\n",
      "30000\n",
      "31000\n"
     ]
    },
    {
     "name": "stderr",
     "output_type": "stream",
     "text": [
      "/usr/local/lib/python3.8/site-packages/botok/textunits/bostring.py:82: UserWarning: Beware of unexpected results: input string contains the non-expanded char \"ཱུ\", found in \"ཱུྃ༔ སྤྱི་\".\n",
      "  warn(\n",
      "/usr/local/lib/python3.8/site-packages/botok/textunits/bostring.py:82: UserWarning: Beware of unexpected results: input string contains the non-expanded char \"ཱུ\", found in \"ཱུྂ་སྒྲ་དྲ\".\n",
      "  warn(\n",
      "/usr/local/lib/python3.8/site-packages/botok/textunits/bostring.py:82: UserWarning: Beware of unexpected results: input string contains the non-expanded char \"ཱུ\", found in \"ཱུྂ་ཧཱུྂ་ཧཱུ\".\n",
      "  warn(\n"
     ]
    },
    {
     "name": "stdout",
     "output_type": "stream",
     "text": [
      "32000\n",
      "33000\n",
      "34000\n"
     ]
    },
    {
     "name": "stderr",
     "output_type": "stream",
     "text": [
      "/usr/local/lib/python3.8/site-packages/botok/textunits/bostring.py:82: UserWarning: Beware of unexpected results: input string contains the non-expanded char \"བྷ\", found in \"བྷོ\".\n",
      "  warn(\n",
      "/usr/local/lib/python3.8/site-packages/botok/textunits/bostring.py:82: UserWarning: Beware of unexpected results: input string contains the non-expanded char \"ྦྷ\", found in \"\".\n",
      "  warn(\n",
      "/usr/local/lib/python3.8/site-packages/botok/textunits/bostring.py:82: UserWarning: Beware of unexpected results: input string contains the non-expanded char \"གྷ\", found in \"\".\n",
      "  warn(\n"
     ]
    },
    {
     "name": "stdout",
     "output_type": "stream",
     "text": [
      "35000\n"
     ]
    },
    {
     "name": "stderr",
     "output_type": "stream",
     "text": [
      "/usr/local/lib/python3.8/site-packages/botok/textunits/bostring.py:82: UserWarning: Beware of unexpected results: input string contains the non-expanded char \"དྷ\", found in \"དྷ\".\n",
      "  warn(\n"
     ]
    }
   ],
   "source": [
    "with open(\"lotsawa_interlace.bo.stem\", 'w') as f_bo, open(\"lotsawa_interlace.en.stem\", 'w') as f_en:\n",
    "    for i, row in data.iterrows():\n",
    "        f_bo.write(tokenize(row.source) + \"\\n\")\n",
    "        f_en.write(en_tokenize(nlp, row.target) + \"\\n\")\n",
    "        if i % 1000 == 0: print(i)"
   ]
  },
  {
   "cell_type": "code",
   "execution_count": 40,
   "metadata": {},
   "outputs": [],
   "source": [
    "with open(\"lotsawa_interlace.manual.ladder\", 'w') as f:\n",
    "    for i in range(len(data)):\n",
    "        f.write(\"%d %d\\n\" % (i, i))"
   ]
  },
  {
   "cell_type": "code",
   "execution_count": 77,
   "metadata": {},
   "outputs": [
    {
     "ename": "UnsupportedOperation",
     "evalue": "not readable",
     "output_type": "error",
     "traceback": [
      "\u001b[0;31m---------------------------------------------------------------------------\u001b[0m",
      "\u001b[0;31mUnsupportedOperation\u001b[0m                      Traceback (most recent call last)",
      "\u001b[0;32m<ipython-input-77-a5b7d425d60a>\u001b[0m in \u001b[0;36m<module>\u001b[0;34m\u001b[0m\n\u001b[1;32m      1\u001b[0m \u001b[0;32mwith\u001b[0m \u001b[0mopen\u001b[0m\u001b[0;34m(\u001b[0m\u001b[0;34m\"lotsawa_interlace.align\"\u001b[0m\u001b[0;34m,\u001b[0m \u001b[0;34m'w'\u001b[0m\u001b[0;34m)\u001b[0m \u001b[0;32mas\u001b[0m \u001b[0mf\u001b[0m\u001b[0;34m:\u001b[0m\u001b[0;34m\u001b[0m\u001b[0;34m\u001b[0m\u001b[0m\n\u001b[0;32m----> 2\u001b[0;31m     \u001b[0mlad\u001b[0m \u001b[0;34m=\u001b[0m \u001b[0mf\u001b[0m\u001b[0;34m.\u001b[0m\u001b[0mreadlines\u001b[0m\u001b[0;34m(\u001b[0m\u001b[0;34m)\u001b[0m\u001b[0;34m\u001b[0m\u001b[0;34m\u001b[0m\u001b[0m\n\u001b[0m",
      "\u001b[0;31mUnsupportedOperation\u001b[0m: not readable"
     ]
    }
   ],
   "source": [
    "with open(\"lotsawa_interlace.align\", 'w') as f:\n",
    "    lad = f.readlines()"
   ]
  },
  {
   "cell_type": "raw",
   "metadata": {},
   "source": [
    "hunalign/src/hunalign/hunalign monlam_bo_en_reverse_tok.dic lotsawa_interlace.bo.stem lotsawa_interlace.en.stem  -hand=lotsawa_interlace.manual.ladder -realign -autodict=lotsawa_interlace2.autodict > lotsawa_interlace.align\n",
    "\n",
    "1070 misaligned out of 35935 correct items, 35963 bets.\n",
    "Precision: 0.970247, Recall: 0.971003\n",
    "Quality 0.862577\n",
    "\n",
    "hunalign/src/hunalign/hunalign null.dic lotsawa_interlace.bo.stem lotsawa_interlace.en.stem  -hand=lotsawa_interlace.manual.ladder -realign -autodict=lotsawa_interlace.autodict > lotsawa_interlace.align\n",
    "923 misaligned out of 35935 correct items, 35953 bets.\n",
    "Precision: 0.974328, Recall: 0.974816\n",
    "Quality 0.872085\n",
    "\n"
   ]
  },
  {
   "cell_type": "code",
   "execution_count": 80,
   "metadata": {},
   "outputs": [],
   "source": [
    "with open(\"lotsawa_interlace.align\", 'r') as f:\n",
    "    aligned = f.readlines()"
   ]
  },
  {
   "cell_type": "code",
   "execution_count": 85,
   "metadata": {},
   "outputs": [],
   "source": [
    "aligned = [(int(s.split('\\t')[0]), int(s.split('\\t')[1])) for s in aligned]\n"
   ]
  },
  {
   "cell_type": "code",
   "execution_count": 88,
   "metadata": {},
   "outputs": [],
   "source": [
    "with open(\"lotsawa_interlace.bo.stem\", 'r') as f:\n",
    "    data_bo = f.readlines()\n",
    "with open(\"lotsawa_interlace.en.stem\", 'r') as f:\n",
    "    data_en = f.readlines()"
   ]
  },
  {
   "cell_type": "code",
   "execution_count": 89,
   "metadata": {},
   "outputs": [
    {
     "name": "stdout",
     "output_type": "stream",
     "text": [
      "རུ་རུ་ སྤྲེལ་རྒྱལ་ བཟོད་པ ར་ སྨྲ །_།\n",
      " Who practised perfect patience ,\n",
      "\n"
     ]
    }
   ],
   "source": [
    "for a,b in aligned:\n",
    "    if a!=b:\n",
    "        print(data_bo[a], data_en[b])\n",
    "        break"
   ]
  },
  {
   "cell_type": "code",
   "execution_count": 90,
   "metadata": {},
   "outputs": [],
   "source": [
    "data = pd.read_csv(\"lotsawa_interlace_sentences.csv\")\n"
   ]
  },
  {
   "cell_type": "code",
   "execution_count": 6,
   "metadata": {},
   "outputs": [
    {
     "data": {
      "text/html": [
       "<div>\n",
       "<style scoped>\n",
       "    .dataframe tbody tr th:only-of-type {\n",
       "        vertical-align: middle;\n",
       "    }\n",
       "\n",
       "    .dataframe tbody tr th {\n",
       "        vertical-align: top;\n",
       "    }\n",
       "\n",
       "    .dataframe thead th {\n",
       "        text-align: right;\n",
       "    }\n",
       "</style>\n",
       "<table border=\"1\" class=\"dataframe\">\n",
       "  <thead>\n",
       "    <tr style=\"text-align: right;\">\n",
       "      <th></th>\n",
       "      <th>source</th>\n",
       "      <th>target</th>\n",
       "      <th>extraction_class</th>\n",
       "      <th>url</th>\n",
       "      <th>topics</th>\n",
       "    </tr>\n",
       "  </thead>\n",
       "  <tbody>\n",
       "    <tr>\n",
       "      <th>50</th>\n",
       "      <td>བདག་ཀྱང་ཁྱེད་ལྟར་ཚུལ་ཁྲིམས་ཀྱི།  །</td>\n",
       "      <td>May I too accomplish the transcendent perfection</td>\n",
       "      <td>TibetanVerse|EnglishText</td>\n",
       "      <td>https://www.lotsawahouse.org/indian-masters/ar...</td>\n",
       "      <td>https://www.lotsawahouse.org/topics/buddha-pra...</td>\n",
       "    </tr>\n",
       "    <tr>\n",
       "      <th>51</th>\n",
       "      <td>ཕ་རོལ་ཕྱིན་པ་ཡོངས་རྫོགས་ཤོག །</td>\n",
       "      <td>Of ethical discipline, just like you!</td>\n",
       "      <td>TibetanVerse|EnglishText</td>\n",
       "      <td>https://www.lotsawahouse.org/indian-masters/ar...</td>\n",
       "      <td>https://www.lotsawahouse.org/topics/buddha-pra...</td>\n",
       "    </tr>\n",
       "    <tr>\n",
       "      <th>52</th>\n",
       "      <td>བྱང་ཆུབ་ངང་པ་བྱང་ཆུབ་ཆེ། །</td>\n",
       "      <td>To the heroic bodhisattvas</td>\n",
       "      <td>TibetanVerse|EnglishText</td>\n",
       "      <td>https://www.lotsawahouse.org/indian-masters/ar...</td>\n",
       "      <td>https://www.lotsawahouse.org/topics/buddha-pra...</td>\n",
       "    </tr>\n",
       "    <tr>\n",
       "      <th>53</th>\n",
       "      <td>སྤྲེའུ་དང་རི་དྭགས་ཤ་ར་བྷ། །</td>\n",
       "      <td>Who practised perfect patience,</td>\n",
       "      <td>TibetanVerse|EnglishText</td>\n",
       "      <td>https://www.lotsawahouse.org/indian-masters/ar...</td>\n",
       "      <td>https://www.lotsawahouse.org/topics/buddha-pra...</td>\n",
       "    </tr>\n",
       "    <tr>\n",
       "      <th>54</th>\n",
       "      <td>རུ་རུ་སྤྲེལ་རྒྱལ་བཟོད་པར་སྨྲ། །</td>\n",
       "      <td>In the ten episodes of Kuddhabodhi, the geese,...</td>\n",
       "      <td>TibetanVerse|EnglishText</td>\n",
       "      <td>https://www.lotsawahouse.org/indian-masters/ar...</td>\n",
       "      <td>https://www.lotsawahouse.org/topics/buddha-pra...</td>\n",
       "    </tr>\n",
       "    <tr>\n",
       "      <th>55</th>\n",
       "      <td>ཚངས་དང་གླང་ཆེན་དེ་དག་བཅུ། །</td>\n",
       "      <td>The monkey, Sharabha deer, Ruru deer, Monkey k...</td>\n",
       "      <td>TibetanVerse|EnglishText</td>\n",
       "      <td>https://www.lotsawahouse.org/indian-masters/ar...</td>\n",
       "      <td>https://www.lotsawahouse.org/topics/buddha-pra...</td>\n",
       "    </tr>\n",
       "    <tr>\n",
       "      <th>56</th>\n",
       "      <td>བཟོད་པ་ལེགས་པར་བསྲུང་བ་ཡི། །</td>\n",
       "      <td>Kṣāntivādin, Brahmā, and the elephant,</td>\n",
       "      <td>TibetanVerse|EnglishText</td>\n",
       "      <td>https://www.lotsawahouse.org/indian-masters/ar...</td>\n",
       "      <td>https://www.lotsawahouse.org/topics/buddha-pra...</td>\n",
       "    </tr>\n",
       "    <tr>\n",
       "      <th>57</th>\n",
       "      <td>སེམས་དཔའ་རྣམས་ལ་ཕྱག་འཚལ་ལོ། །</td>\n",
       "      <td>I pay homage!</td>\n",
       "      <td>TibetanVerse|EnglishText</td>\n",
       "      <td>https://www.lotsawahouse.org/indian-masters/ar...</td>\n",
       "      <td>https://www.lotsawahouse.org/topics/buddha-pra...</td>\n",
       "    </tr>\n",
       "    <tr>\n",
       "      <th>58</th>\n",
       "      <td>བདག་ཀྱང་ཁྱེད་ལྟར་བཟོད་པ་ཡི།  །</td>\n",
       "      <td>May I too accomplish the transcendent perfection</td>\n",
       "      <td>TibetanVerse|EnglishText</td>\n",
       "      <td>https://www.lotsawahouse.org/indian-masters/ar...</td>\n",
       "      <td>https://www.lotsawahouse.org/topics/buddha-pra...</td>\n",
       "    </tr>\n",
       "    <tr>\n",
       "      <th>59</th>\n",
       "      <td>ཕ་རོལ་ཕྱིན་པ་ཡོངས་རྫོགས་ཤོག །</td>\n",
       "      <td>Of patience, just like you!</td>\n",
       "      <td>TibetanVerse|EnglishText</td>\n",
       "      <td>https://www.lotsawahouse.org/indian-masters/ar...</td>\n",
       "      <td>https://www.lotsawahouse.org/topics/buddha-pra...</td>\n",
       "    </tr>\n",
       "  </tbody>\n",
       "</table>\n",
       "</div>"
      ],
      "text/plain": [
       "                                source  \\\n",
       "50  བདག་ཀྱང་ཁྱེད་ལྟར་ཚུལ་ཁྲིམས་ཀྱི།  །   \n",
       "51       ཕ་རོལ་ཕྱིན་པ་ཡོངས་རྫོགས་ཤོག །   \n",
       "52          བྱང་ཆུབ་ངང་པ་བྱང་ཆུབ་ཆེ། །   \n",
       "53         སྤྲེའུ་དང་རི་དྭགས་ཤ་ར་བྷ། །   \n",
       "54     རུ་རུ་སྤྲེལ་རྒྱལ་བཟོད་པར་སྨྲ། །   \n",
       "55         ཚངས་དང་གླང་ཆེན་དེ་དག་བཅུ། །   \n",
       "56        བཟོད་པ་ལེགས་པར་བསྲུང་བ་ཡི། །   \n",
       "57       སེམས་དཔའ་རྣམས་ལ་ཕྱག་འཚལ་ལོ། །   \n",
       "58      བདག་ཀྱང་ཁྱེད་ལྟར་བཟོད་པ་ཡི།  །   \n",
       "59       ཕ་རོལ་ཕྱིན་པ་ཡོངས་རྫོགས་ཤོག །   \n",
       "\n",
       "                                               target  \\\n",
       "50   May I too accomplish the transcendent perfection   \n",
       "51              Of ethical discipline, just like you!   \n",
       "52                         To the heroic bodhisattvas   \n",
       "53                    Who practised perfect patience,   \n",
       "54  In the ten episodes of Kuddhabodhi, the geese,...   \n",
       "55  The monkey, Sharabha deer, Ruru deer, Monkey k...   \n",
       "56             Kṣāntivādin, Brahmā, and the elephant,   \n",
       "57                                      I pay homage!   \n",
       "58   May I too accomplish the transcendent perfection   \n",
       "59                        Of patience, just like you!   \n",
       "\n",
       "            extraction_class  \\\n",
       "50  TibetanVerse|EnglishText   \n",
       "51  TibetanVerse|EnglishText   \n",
       "52  TibetanVerse|EnglishText   \n",
       "53  TibetanVerse|EnglishText   \n",
       "54  TibetanVerse|EnglishText   \n",
       "55  TibetanVerse|EnglishText   \n",
       "56  TibetanVerse|EnglishText   \n",
       "57  TibetanVerse|EnglishText   \n",
       "58  TibetanVerse|EnglishText   \n",
       "59  TibetanVerse|EnglishText   \n",
       "\n",
       "                                                  url  \\\n",
       "50  https://www.lotsawahouse.org/indian-masters/ar...   \n",
       "51  https://www.lotsawahouse.org/indian-masters/ar...   \n",
       "52  https://www.lotsawahouse.org/indian-masters/ar...   \n",
       "53  https://www.lotsawahouse.org/indian-masters/ar...   \n",
       "54  https://www.lotsawahouse.org/indian-masters/ar...   \n",
       "55  https://www.lotsawahouse.org/indian-masters/ar...   \n",
       "56  https://www.lotsawahouse.org/indian-masters/ar...   \n",
       "57  https://www.lotsawahouse.org/indian-masters/ar...   \n",
       "58  https://www.lotsawahouse.org/indian-masters/ar...   \n",
       "59  https://www.lotsawahouse.org/indian-masters/ar...   \n",
       "\n",
       "                                               topics  \n",
       "50  https://www.lotsawahouse.org/topics/buddha-pra...  \n",
       "51  https://www.lotsawahouse.org/topics/buddha-pra...  \n",
       "52  https://www.lotsawahouse.org/topics/buddha-pra...  \n",
       "53  https://www.lotsawahouse.org/topics/buddha-pra...  \n",
       "54  https://www.lotsawahouse.org/topics/buddha-pra...  \n",
       "55  https://www.lotsawahouse.org/topics/buddha-pra...  \n",
       "56  https://www.lotsawahouse.org/topics/buddha-pra...  \n",
       "57  https://www.lotsawahouse.org/topics/buddha-pra...  \n",
       "58  https://www.lotsawahouse.org/topics/buddha-pra...  \n",
       "59  https://www.lotsawahouse.org/topics/buddha-pra...  "
      ]
     },
     "execution_count": 6,
     "metadata": {},
     "output_type": "execute_result"
    }
   ],
   "source": [
    "data.iloc[50:60]"
   ]
  },
  {
   "cell_type": "code",
   "execution_count": 9,
   "metadata": {},
   "outputs": [],
   "source": [
    "s = data.iloc[10].source\n",
    "from botok import WordTokenizer"
   ]
  },
  {
   "cell_type": "code",
   "execution_count": 16,
   "metadata": {},
   "outputs": [
    {
     "name": "stdout",
     "output_type": "stream",
     "text": [
      "Loading Trie... (1s.)\n"
     ]
    }
   ],
   "source": [
    "wt = WordTokenizer()\n",
    "tokens = wt.tokenize(s)"
   ]
  },
  {
   "cell_type": "code",
   "execution_count": 20,
   "metadata": {},
   "outputs": [
    {
     "data": {
      "text/plain": [
       "''"
      ]
     },
     "execution_count": 20,
     "metadata": {},
     "output_type": "execute_result"
    }
   ],
   "source": [
    "tokens[0].lemma"
   ]
  },
  {
   "cell_type": "code",
   "execution_count": 25,
   "metadata": {},
   "outputs": [],
   "source": [
    "def tokenize(wt, s):\n",
    "    return \".\".join([t.lemma if t.lemma!=\"\" else t.text for t in wt.tokenize(s) ])"
   ]
  },
  {
   "cell_type": "code",
   "execution_count": 26,
   "metadata": {},
   "outputs": [
    {
     "data": {
      "text/plain": [
       "'ཤཱཀྱའི་.གྲོང་.དུ་.གཞོན་ནུ་.གིས་.རོལ་རྩེད་.མཛད་.།.\\xa0.།'"
      ]
     },
     "execution_count": 26,
     "metadata": {},
     "output_type": "execute_result"
    }
   ],
   "source": [
    "tokenize(wt, s)"
   ]
  },
  {
   "cell_type": "code",
   "execution_count": 28,
   "metadata": {},
   "outputs": [
    {
     "name": "stdout",
     "output_type": "stream",
     "text": [
      "Loading Trie... (2s.)\n"
     ]
    },
    {
     "data": {
      "text/plain": [
       "'ཤཱཀྱའི་ གྲོང་ དུ་ གཞོན་ནུ ས་ རོལ་རྩེད་ མཛད །_།'"
      ]
     },
     "execution_count": 28,
     "metadata": {},
     "output_type": "execute_result"
    }
   ],
   "source": [
    "from pybo import Text\n",
    "Text(s).tokenize_words_raw_text"
   ]
  },
  {
   "cell_type": "code",
   "execution_count": 29,
   "metadata": {},
   "outputs": [
    {
     "data": {
      "text/plain": [
       "'ཤཱཀྱའི་གྲོང་དུ་གཞོན་ནུས་རོལ་རྩེད་མཛད།\\xa0།'"
      ]
     },
     "execution_count": 29,
     "metadata": {},
     "output_type": "execute_result"
    }
   ],
   "source": [
    "s"
   ]
  },
  {
   "cell_type": "markdown",
   "metadata": {},
   "source": [
    "../hunalign/src/hunalign/hunalign lotsawa_interlace.selfdict.score lotsawa_interlace.bo.stem lotsawa_interlace.en.stem  -hand=lotsawa_interlace.manual.ladder -realign > /tmp/tmp\n",
    "923 misaligned out of 35935 correct items, 35953 bets.\n",
    "Precision: 0.974328, Recall: 0.974816\n",
    "Quality 0.872085\n",
    "../hunalign/src/hunalign/hunalign null.dic lotsawa_interlace.bo.stem lotsawa_interlace.en.stem  -hand=lotsawa_interlace.manual.ladder -realign > /tmp/tmp\n",
    "Global quality of unfiltered align after realign 0.872085\n",
    "923 misaligned out of 35935 correct items, 35953 bets.\n",
    "Precision: 0.974328, Recall: 0.974816\n",
    "Quality 0.872085\n",
    "\n",
    "../hunalign/src/hunalign/hunalign lotsawa_interlace.selfdict.score lotsawa_interlace.bo.stem lotsawa_interlace.en.stem  -hand=lotsawa_interlace.manual.ladder > /tmp/tmp\n",
    "Global quality of unfiltered align after realign 0.18708\n",
    "3375 misaligned out of 35935 correct items, 35890 bets.\n",
    "Precision: 0.905963, Recall: 0.904828\n",
    "Quality 0.18708\n",
    "\n",
    "../hunalign/src/hunalign/hunalign null.dic lotsawa_interlace.bo.stem lotsawa_interlace.en.stem  -hand=lotsawa_interlace.manual.ladder > /tmp/tmp\n",
    "3375 misaligned out of 35935 correct items, 35890 bets.\n",
    "Precision: 0.905963, Recall: 0.904828\n",
    "Quality 0.18708\n",
    "\n",
    "../hunalign/src/hunalign/hunalign ../illum.dic lotsawa_interlace.bo.stem lotsawa_interlace.en.stem  -hand=lotsawa_interlace.manual.ladder > /tmp/tmp\n",
    "3609 misaligned out of 35935 correct items, 35889 bets.\n",
    "Precision: 0.89944, Recall: 0.898289\n",
    "Quality 0.1884\n",
    "../hunalign/src/hunalign/hunalign ../illum.dic lotsawa_interlace.bo.stem lotsawa_interlace.en.stem  -hand=lotsawa_interlace.manual.ladder -realign > /tmp/tmp\n",
    "937 misaligned out of 35935 correct items, 35955 bets.\n",
    "Precision: 0.97394, Recall: 0.974482\n",
    "Quality 0.872124\n",
    "\n",
    "../hunalign/src/hunalign/hunalign ../illum1.dic lotsawa_interlace.bo.stem lotsawa_interlace.en.stem  -hand=lotsawa_interlace.manual.ladder > /tmp/tmp\n",
    "Global quality of unfiltered align after realign 0.194847\n",
    "3528 misaligned out of 35935 correct items, 35900 bets.\n",
    "Precision: 0.901727, Recall: 0.900849\n",
    "Quality 0.194847\n",
    "\n",
    "../hunalign/src/hunalign/hunalign ../illum1.dic lotsawa_interlace.bo.stem lotsawa_interlace.en.stem  -hand=lotsawa_interlace.manual.ladder -realign > /tmp/tmp\n",
    "917 misaligned out of 35935 correct items, 35955 bets.\n",
    "Precision: 0.974496, Recall: 0.975038\n",
    "Quality 0.872148"
   ]
  },
  {
   "cell_type": "code",
   "execution_count": 2,
   "metadata": {},
   "outputs": [],
   "source": [
    "# The autodict will be enough"
   ]
  },
  {
   "cell_type": "code",
   "execution_count": null,
   "metadata": {},
   "outputs": [],
   "source": []
  }
 ],
 "metadata": {
  "kernelspec": {
   "display_name": "Python 3",
   "language": "python",
   "name": "python3"
  },
  "language_info": {
   "codemirror_mode": {
    "name": "ipython",
    "version": 3
   },
   "file_extension": ".py",
   "mimetype": "text/x-python",
   "name": "python",
   "nbconvert_exporter": "python",
   "pygments_lexer": "ipython3",
   "version": "3.8.5"
  }
 },
 "nbformat": 4,
 "nbformat_minor": 4
}
