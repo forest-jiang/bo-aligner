{
 "cells": [
  {
   "cell_type": "markdown",
   "metadata": {},
   "source": [
    "# development: \n",
    "Enable hunalign to just build dict from aligned sentences. Enable hunalign to just output scores for bisentences without aligning them. Dev: fix a input param bug (minscore...)"
   ]
  },
  {
   "cell_type": "code",
   "execution_count": 5,
   "metadata": {},
   "outputs": [],
   "source": [
    "with open(\"bible_nirv_train_ver.en.stem\", 'r') as f:\n",
    "    verses_en = f.readlines()\n",
    "with open(\"bible_ctb_train_ver.bo.stem\", 'r') as f:\n",
    "    verses_bo = f.readlines()\n",
    "with open(\"bible_nirv_ctb.manual3.ladder\", 'r') as f:\n",
    "    ladders = f.readlines()"
   ]
  },
  {
   "cell_type": "code",
   "execution_count": 10,
   "metadata": {},
   "outputs": [],
   "source": [
    "with open(\"aligned_ctb.bo.stem\", 'w') as f1, open(\"aligned_nirv.en.stem\", 'w') as f2:\n",
    "    for ladder in ladders[:-1]:\n",
    "        a,b = ladder.split()\n",
    "        f1.write(verses_en[int(a)])\n",
    "        f2.write(verses_bo[int(b)])"
   ]
  },
  {
   "cell_type": "raw",
   "metadata": {},
   "source": [
    "# dictbuild command\n",
    "../hunalign/src/hunalign/hunalign null.dic aligned_nirv.en.stem aligned_ctb.bo.stem -dictbuild -autodict=tmp.dict"
   ]
  },
  {
   "cell_type": "code",
   "execution_count": 8,
   "metadata": {},
   "outputs": [
    {
     "data": {
      "text/plain": [
       "('7454', '7389')"
      ]
     },
     "execution_count": 8,
     "metadata": {},
     "output_type": "execute_result"
    }
   ],
   "source": [
    "a,b"
   ]
  },
  {
   "cell_type": "code",
   "execution_count": 9,
   "metadata": {},
   "outputs": [
    {
     "data": {
      "text/plain": [
       "'7454 7389\\n'"
      ]
     },
     "execution_count": 9,
     "metadata": {},
     "output_type": "execute_result"
    }
   ],
   "source": [
    "ladders[-1]"
   ]
  },
  {
   "cell_type": "raw",
   "metadata": {},
   "source": [
    "# noalign command\n",
    "../hunalign/src/hunalign/hunalign null.dic aligned_nirv.en.stem aligned_ctb.bo.stem -noalign  > aligned.score\n"
   ]
  },
  {
   "cell_type": "code",
   "execution_count": 16,
   "metadata": {},
   "outputs": [],
   "source": [
    "with open(\"aligned.score\",'r') as f:\n",
    "    aligned_lines = f.readlines()"
   ]
  },
  {
   "cell_type": "code",
   "execution_count": 23,
   "metadata": {},
   "outputs": [],
   "source": [
    "bisent_scored = []\n",
    "with open(\"aligned_ctb.bo.stem\", 'r') as f:\n",
    "    aligned_bo = f.readlines()\n",
    "with open(\"aligned_nirv.en.stem\", 'r') as f:\n",
    "    aligned_en = f.readlines()\n",
    "\n",
    "for i, line in enumerate(aligned_lines):\n",
    "    score = float(line.split(\"\\t\")[2])\n",
    "#     if score < -0.5:\n",
    "#         print((score, aligned_en[i], aligned_bo[i]))\n",
    "    bisent_scored.append((score, aligned_en[i], aligned_bo[i]))\n",
    "bisent_scored.sort(reverse=True)\n",
    "# scores.split(\"\\t\")"
   ]
  },
  {
   "cell_type": "code",
   "execution_count": 24,
   "metadata": {},
   "outputs": [],
   "source": [
    "with open(\"aligned_scored.stem\", \"w\") as f:\n",
    "    for bisent in bisent_scored:\n",
    "        f.write(\"%s\\t%s\\t%f\\n\" % (bisent[1].strip(), bisent[2].strip(), bisent[0]))"
   ]
  },
  {
   "cell_type": "code",
   "execution_count": null,
   "metadata": {},
   "outputs": [],
   "source": []
  }
 ],
 "metadata": {
  "kernelspec": {
   "display_name": "Python 3",
   "language": "python",
   "name": "python3"
  },
  "language_info": {
   "codemirror_mode": {
    "name": "ipython",
    "version": 3
   },
   "file_extension": ".py",
   "mimetype": "text/x-python",
   "name": "python",
   "nbconvert_exporter": "python",
   "pygments_lexer": "ipython3",
   "version": "3.8.5"
  }
 },
 "nbformat": 4,
 "nbformat_minor": 4
}
