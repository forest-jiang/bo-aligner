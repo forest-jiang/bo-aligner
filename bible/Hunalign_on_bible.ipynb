{
 "cells": [
  {
   "cell_type": "markdown",
   "metadata": {},
   "source": [
    "# Study Hunalign"
   ]
  },
  {
   "cell_type": "markdown",
   "metadata": {},
   "source": [
    "## Step 1: Concate bible text and tokenize"
   ]
  },
  {
   "cell_type": "code",
   "execution_count": 25,
   "metadata": {},
   "outputs": [
    {
     "name": "stdout",
     "output_type": "stream",
     "text": [
      "The autoreload extension is already loaded. To reload it, use:\n",
      "  %reload_ext autoreload\n"
     ]
    }
   ],
   "source": [
    "%load_ext autoreload\n",
    "%autoreload 2"
   ]
  },
  {
   "cell_type": "code",
   "execution_count": 26,
   "metadata": {},
   "outputs": [],
   "source": [
    "from bible_util import *\n",
    "import pandas as pd\n",
    "\n",
    "file = \"bible_sentences_ctb.csv\"\n",
    "sents = read_bible_sentences(file)\n",
    "chaps = get_all_chaps(sents.index)"
   ]
  },
  {
   "cell_type": "code",
   "execution_count": 27,
   "metadata": {},
   "outputs": [],
   "source": [
    "chaps_train, chaps_test = train_test_split(chaps, test_size=0.1, random_state=33)\n",
    "sents_test = sents_filter_chaps(sents, chaps_test)\n",
    "sents_train = sents_filter_chaps(sents, chaps_train)"
   ]
  },
  {
   "cell_type": "markdown",
   "metadata": {},
   "source": [
    "## Need to generate:\n",
    "* .raw file for raw text\n",
    "* .stem file for sentences\n",
    "* .manual.ladder for ground truth\n"
   ]
  },
  {
   "cell_type": "code",
   "execution_count": 28,
   "metadata": {},
   "outputs": [
    {
     "name": "stdout",
     "output_type": "stream",
     "text": [
      "Rows processed... 1000\n",
      "Rows processed... 2000\n",
      "Rows processed... 3000\n",
      "Rows processed... 4000\n",
      "Rows processed... 5000\n",
      "Rows processed... 6000\n",
      "Rows processed... 7000\n"
     ]
    }
   ],
   "source": [
    "index_bo = prepare_align_bo(sents_train, \"bible_ctb_train.bo\")"
   ]
  },
  {
   "cell_type": "code",
   "execution_count": 29,
   "metadata": {},
   "outputs": [
    {
     "name": "stdout",
     "output_type": "stream",
     "text": [
      "Rows processed... 1000\n",
      "Rows processed... 2000\n",
      "Rows processed... 3000\n",
      "Rows processed... 4000\n",
      "Rows processed... 5000\n",
      "Rows processed... 6000\n",
      "Rows processed... 7000\n"
     ]
    }
   ],
   "source": [
    "index_bo_verse = prepare_align_bo(sents_train, \"bible_ctb_train_ver.bo\", no_break_verse=True)"
   ]
  },
  {
   "cell_type": "code",
   "execution_count": 32,
   "metadata": {},
   "outputs": [],
   "source": [
    "file = \"bible_sentences_nirv.csv\"\n",
    "sents = read_bible_sentences(file)\n",
    "sents_train = sents_filter_chaps(sents, chaps_train)"
   ]
  },
  {
   "cell_type": "code",
   "execution_count": 33,
   "metadata": {},
   "outputs": [
    {
     "name": "stdout",
     "output_type": "stream",
     "text": [
      "Rows processed... 1000\n",
      "Rows processed... 2000\n",
      "Rows processed... 3000\n",
      "Rows processed... 4000\n",
      "Rows processed... 5000\n",
      "Rows processed... 6000\n",
      "Rows processed... 7000\n"
     ]
    }
   ],
   "source": [
    "index_en = prepare_align_en(sents_train, file_prefix = \"bible_nirv_train.en\")"
   ]
  },
  {
   "cell_type": "code",
   "execution_count": 38,
   "metadata": {},
   "outputs": [
    {
     "name": "stdout",
     "output_type": "stream",
     "text": [
      "Rows processed... 1000\n",
      "Rows processed... 2000\n",
      "Rows processed... 3000\n",
      "Rows processed... 4000\n",
      "Rows processed... 5000\n",
      "Rows processed... 6000\n",
      "Rows processed... 7000\n"
     ]
    }
   ],
   "source": [
    "index_en_verse = prepare_align_en(sents_train, file_prefix = \"bible_nirv_train_ver.en\", no_break_verse=True)"
   ]
  },
  {
   "cell_type": "code",
   "execution_count": 40,
   "metadata": {},
   "outputs": [
    {
     "name": "stdout",
     "output_type": "stream",
     "text": [
      "17163 20498\n"
     ]
    }
   ],
   "source": [
    "print(len(index_bo), len(index_en))"
   ]
  },
  {
   "cell_type": "raw",
   "metadata": {},
   "source": [
    "print(len(index_bo_verse), len(index_en_verse))"
   ]
  },
  {
   "cell_type": "markdown",
   "metadata": {},
   "source": [
    "## Create manual ladder"
   ]
  },
  {
   "cell_type": "code",
   "execution_count": 43,
   "metadata": {},
   "outputs": [],
   "source": [
    "verse_index = f7(index_en)\n",
    "write_ladder_file(\"bible_nirv_ctb.manual.ladder\", index_bo, index_en, verse_index)\n",
    "write_ladder_file(\"bible_nirv_ctb.manual2.ladder\", index_bo, index_en_verse, verse_index)\n",
    "write_ladder_file(\"bible_nirv_ctb.manual3.ladder\", index_bo_verse, index_en_verse, verse_index)"
   ]
  },
  {
   "cell_type": "markdown",
   "metadata": {},
   "source": [
    "## Run!"
   ]
  },
  {
   "cell_type": "raw",
   "metadata": {},
   "source": [
    "hunalign/src/hunalign/hunalign null.dic bible_nirv_train.en.stem  bible_ctb_train.bo.stem  -hand=bible_nirv_ctb.manual.ladder > bible_ctb_train_align.txt\n",
    "14167 misaligned out of 7223 correct items, 16869 bets.\n",
    "Precision: 0.160175, Recall: 0.374083\n",
    "Quality 0.0927921\n",
    "\n",
    "hunalign/src/hunalign/hunalign null.dic bible_nirv_train.en.stem  bible_ctb_train.bo.stem  -hand=bible_nirv_ctb.manual.ladder -realign > bible_ctb_train_align.txt\n",
    "12870 misaligned out of 7223 correct items, 17165 bets.\n",
    "Precision: 0.250218, Recall: 0.594628\n",
    "Quality 0.445322\n",
    "\n",
    "hunalign/src/hunalign/hunalign null.dic bible_nirv_train_ver.en.stem  bible_ctb_train.bo.stem  -hand=bible_nirv_ctb.manual2.ladder > bible_ctb_train_align.txt\n",
    "6988 misaligned out of 7223 correct items, 9848 bets.\n",
    "Precision: 0.290414, Recall: 0.395957\n",
    "Quality -0.0511065\n",
    "\n",
    "hunalign/src/hunalign/hunalign null.dic bible_nirv_train_ver.en.stem  bible_ctb_train.bo.stem  -hand=bible_nirv_ctb.manual2.ladder -realign > bible_ctb_train_align.txt\n",
    "4875 misaligned out of 7223 correct items, 9539 bets.\n",
    "Precision: 0.48894, Recall: 0.645715\n",
    "Quality 0.169591\n",
    "\n",
    "hunalign/src/hunalign/hunalign null.dic bible_nirv_train_ver.en.stem  bible_ctb_train_ver.bo.stem  -hand=bible_nirv_ctb.manual3.ladder > bible_ctb_train_align.txt\n",
    "261 misaligned out of 7223 correct items, 7394 bets.\n",
    "Precision: 0.964701, Recall: 0.98754\n",
    "Quality 0.256641\n",
    "\n",
    "hunalign/src/hunalign/hunalign null.dic bible_nirv_train_ver.en.stem  bible_ctb_train_ver.bo.stem  -hand=bible_nirv_ctb.manual3.ladder -realign -autodict=tmp2.dict > bible_ctb_train_align.txt\n",
    "240 misaligned out of 7223 correct items, 7393 bets.\n",
    "Precision: 0.967537, Recall: 0.990309\n",
    "Quality 0.784629"
   ]
  },
  {
   "cell_type": "markdown",
   "metadata": {},
   "source": [
    "hunalign/src/hunalign/hunalign monlam_bo_en.dic bible_nirv_train.en.stem  bible_ctb_train.bo.stem  -hand=bible_nirv_ctb.manual.ladder > bible_ctb_train_align.txt\n",
    "13359 misaligned out of 7223 correct items, 16957 bets.\n",
    "Precision: 0.212184, Recall: 0.498131\n",
    "Quality 0.155236\n",
    "\n",
    "hunalign/src/hunalign/hunalign monlam_bo_en.dic bible_nirv_train.en.stem  bible_ctb_train.bo.stem  -hand=bible_nirv_ctb.manual.ladder -realign > bible_ctb_train_align.txt\n",
    "12350 misaligned out of 7223 correct items, 17048 bets.\n",
    "Precision: 0.275575, Recall: 0.650422\n",
    "Quality 0.491821\n",
    "\n",
    "hunalign/src/hunalign/hunalign monlam_bo_en.dic bible_nirv_train_ver.en.stem  bible_ctb_train.bo.stem  -hand=bible_nirv_ctb.manual2.ladder > bible_ctb_train_align.txt\n",
    "5976 misaligned out of 7223 correct items, 9783 bets.\n",
    "Precision: 0.389144, Recall: 0.527066\n",
    "Quality 0.00536566\n",
    "\n",
    "hunalign/src/hunalign/hunalign monlam_bo_en.dic bible_nirv_train_ver.en.stem  bible_ctb_train.bo.stem  -hand=bible_nirv_ctb.manual2.ladder -realign > bible_ctb_train_align.txt\n",
    "4544 misaligned out of 7223 correct items, 9459 bets.\n",
    "Precision: 0.519611, Recall: 0.680465\n",
    "Quality 0.199176\n",
    "\n",
    "hunalign/src/hunalign/hunalign monlam_bo_en.dic bible_nirv_train_ver.en.stem  bible_ctb_train_ver.bo.stem  -hand=bible_nirv_ctb.manual3.ladder > bible_ctb_train_align.txt\n",
    "267 misaligned out of 7223 correct items, 7397 bets.\n",
    "Precision: 0.963904, Recall: 0.987124\n",
    "Quality 0.387003\n",
    "\n",
    "hunalign/src/hunalign/hunalign monlam_bo_en.dic bible_nirv_train_ver.en.stem  bible_ctb_train_ver.bo.stem  -hand=bible_nirv_ctb.manual3.ladder -realign > bible_ctb_train_align.txt\n",
    "239 misaligned out of 7223 correct items, 7391 bets.\n",
    "Precision: 0.967663, Recall: 0.99017\n",
    "Quality 0.797119\n"
   ]
  },
  {
   "cell_type": "markdown",
   "metadata": {},
   "source": [
    "## Dict (this part can run standalone way)."
   ]
  },
  {
   "cell_type": "code",
   "execution_count": 4,
   "metadata": {},
   "outputs": [
    {
     "name": "stdout",
     "output_type": "stream",
     "text": [
      "ཀ་ one, pillar, all, the, the very, the beginning, the root, power, all the, indeed, surely, SA ka ba, symbol of origin of reality, infinitive particle\n"
     ]
    },
    {
     "name": "stderr",
     "output_type": "stream",
     "text": [
      "/usr/local/lib/python3.8/site-packages/pystardict.py:601: UserWarning: Iter dict items with in_memory=False may cause serious performance problem\n",
      "  warnings.warn(\n",
      "/usr/local/lib/python3.8/site-packages/pystardict.py:200: UserWarning: Iter dict items with in_memory=False may cause serious performance problem\n",
      "  warnings.warn(\n"
     ]
    }
   ],
   "source": [
    "from pystardict import Dictionary\n",
    "d = Dictionary(\"monlam-dictionary-stardict/Tibetan-English/tben\")\n",
    "for key in d.keys():\n",
    "    print(key, d[key])\n",
    "    break\n",
    "with open(\"monlam_bo_en.dic\", 'w') as f:\n",
    "    for key in d.keys():\n",
    "        key_tok = tokenize(key).strip()\n",
    "        for target in d[key].split(\", \"):\n",
    "            f.write(key_tok + \" @ \" + target + \"\\n\")"
   ]
  },
  {
   "cell_type": "markdown",
   "metadata": {},
   "source": [
    "# conclusion: \n",
    "\n",
    "The hunalign gives really good result. Metrics: the precision and coverage is measure on rungs. Quality metrics is mainly the overlapping tokens normalized by long sentence length.\n",
    "\n",
    "TODO:\n",
    "* may need to fine tue trivialTranslateWord because the different script used"
   ]
  },
  {
   "cell_type": "code",
   "execution_count": null,
   "metadata": {},
   "outputs": [],
   "source": []
  }
 ],
 "metadata": {
  "kernelspec": {
   "display_name": "Python 3",
   "language": "python",
   "name": "python3"
  },
  "language_info": {
   "codemirror_mode": {
    "name": "ipython",
    "version": 3
   },
   "file_extension": ".py",
   "mimetype": "text/x-python",
   "name": "python",
   "nbconvert_exporter": "python",
   "pygments_lexer": "ipython3",
   "version": "3.8.5"
  }
 },
 "nbformat": 4,
 "nbformat_minor": 4
}
