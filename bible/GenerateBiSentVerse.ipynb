{
 "cells": [
  {
   "cell_type": "markdown",
   "metadata": {},
   "source": [
    "# Script to generate bisentences for bible verses"
   ]
  },
  {
   "cell_type": "code",
   "execution_count": 1,
   "metadata": {},
   "outputs": [],
   "source": [
    "%load_ext autoreload\n",
    "%autoreload 2\n",
    "import pandas as pd\n",
    "from bible_util import is_verse\n",
    "\n",
    "data = pd.read_csv(\"bible_sentences_nirv.csv\", index_col=\"index\")\n",
    "\n",
    "# bo_vers = [\"tot11\", \"ntb\", \"ctb\"]\n"
   ]
  },
  {
   "cell_type": "code",
   "execution_count": 2,
   "metadata": {},
   "outputs": [],
   "source": [
    "# English has most complete verses\n",
    "verse_indices = [ind for ind  in data.index if is_verse(ind)]\n",
    "verse_indices = set(verse_indices)"
   ]
  },
  {
   "cell_type": "code",
   "execution_count": 3,
   "metadata": {},
   "outputs": [
    {
     "name": "stdout",
     "output_type": "stream",
     "text": [
      "Generating verses bisentences for tot11: 22224 sentences\n",
      "Generating verses bisentences for ntb: 8215 sentences\n",
      "Generating verses bisentences for ctb: 8099 sentences\n"
     ]
    }
   ],
   "source": [
    "for bo_ver in [\"tot11\", \"ntb\", \"ctb\"]:\n",
    "    data_bo = pd.read_csv('bible_sentences_' + bo_ver + '.csv', index_col=\"index\")\n",
    "    bisent = []\n",
    "    for ind, row in data_bo.iterrows():\n",
    "        if ind in verse_indices:\n",
    "            en_row = data.loc[ind]\n",
    "            bisent.append((en_row.en_text, row.bo_text, en_row.source_url, row.source_url, ind))\n",
    "    output = pd.DataFrame(bisent, columns=[\"en\", \"bo\", \"en_source\", \"bo_source\", \"index\"])\n",
    "    print(\"Generating verses bisentences for %s: %d sentences\" % (bo_ver, len(output)))\n",
    "    output.to_csv('bisent_verse_nirv_' + bo_ver + \".csv\")\n",
    "    output.sample(30).to_csv('bisent_verse_nirv_' + bo_ver + \"_sample30.csv\")"
   ]
  },
  {
   "cell_type": "code",
   "execution_count": 4,
   "metadata": {},
   "outputs": [
    {
     "data": {
      "text/plain": [
       "38538"
      ]
     },
     "execution_count": 4,
     "metadata": {},
     "output_type": "execute_result"
    }
   ],
   "source": [
    "22224+8215+8099\n"
   ]
  },
  {
   "cell_type": "code",
   "execution_count": null,
   "metadata": {},
   "outputs": [],
   "source": []
  }
 ],
 "metadata": {
  "kernelspec": {
   "display_name": "Python 3",
   "language": "python",
   "name": "python3"
  },
  "language_info": {
   "codemirror_mode": {
    "name": "ipython",
    "version": 3
   },
   "file_extension": ".py",
   "mimetype": "text/x-python",
   "name": "python",
   "nbconvert_exporter": "python",
   "pygments_lexer": "ipython3",
   "version": "3.8.5"
  }
 },
 "nbformat": 4,
 "nbformat_minor": 4
}
